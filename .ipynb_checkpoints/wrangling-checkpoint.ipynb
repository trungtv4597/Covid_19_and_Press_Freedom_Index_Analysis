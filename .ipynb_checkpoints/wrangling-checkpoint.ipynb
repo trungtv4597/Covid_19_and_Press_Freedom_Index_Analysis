{
 "cells": [
  {
   "cell_type": "code",
   "execution_count": 1,
   "metadata": {},
   "outputs": [],
   "source": [
    "import numpy as np\n",
    "import pandas as pd\n",
    "import my_own_package"
   ]
  },
  {
   "cell_type": "code",
   "execution_count": 47,
   "metadata": {},
   "outputs": [],
   "source": [
    "pd.set_option('display.max_rows', 50)\n",
    "pd.set_option('display.max_columns', 0)"
   ]
  },
  {
   "cell_type": "code",
   "execution_count": 3,
   "metadata": {},
   "outputs": [],
   "source": [
    "data_path = r'C:\\Users\\DucTRung\\Desktop\\country_by_freedom_indexes_in_covid19\\data_sets'"
   ]
  },
  {
   "cell_type": "markdown",
   "metadata": {},
   "source": [
    "# COVID-19"
   ]
  },
  {
   "cell_type": "code",
   "execution_count": 4,
   "metadata": {},
   "outputs": [],
   "source": [
    "covid_f = pd.read_csv(data_path + '\\\\worldometer_covid19_na.csv')"
   ]
  },
  {
   "cell_type": "markdown",
   "metadata": {},
   "source": [
    "## Drop unneccesrily indexes"
   ]
  },
  {
   "cell_type": "code",
   "execution_count": 5,
   "metadata": {},
   "outputs": [],
   "source": [
    "# index: 'world'\n",
    "covid_f.drop([0], inplace=True)"
   ]
  },
  {
   "cell_type": "code",
   "execution_count": 6,
   "metadata": {},
   "outputs": [],
   "source": [
    "# columns: 'new_cases', 'new_deaths'\n",
    "covid_f.drop(columns=['new_cases', 'new_deaths'], inplace=True)"
   ]
  },
  {
   "cell_type": "code",
   "execution_count": 7,
   "metadata": {},
   "outputs": [
    {
     "name": "stdout",
     "output_type": "stream",
     "text": [
      "<class 'pandas.core.frame.DataFrame'>\n",
      "Int64Index: 212 entries, 1 to 212\n",
      "Data columns (total 10 columns):\n",
      " #   Column            Non-Null Count  Dtype \n",
      "---  ------            --------------  ----- \n",
      " 0   country           212 non-null    object\n",
      " 1   total_cases       212 non-null    object\n",
      " 2   total_deaths      162 non-null    object\n",
      " 3   total_recovered   188 non-null    object\n",
      " 4   active_cases      212 non-null    object\n",
      " 5   serious_critical  131 non-null    object\n",
      " 6   cases_over_1_m    210 non-null    object\n",
      " 7   deaths_over_1_m   160 non-null    object\n",
      " 8   total_tests       160 non-null    object\n",
      " 9   tests_over_1_m    160 non-null    object\n",
      "dtypes: object(10)\n",
      "memory usage: 18.2+ KB\n"
     ]
    }
   ],
   "source": [
    "covid_f.info()"
   ]
  },
  {
   "cell_type": "markdown",
   "metadata": {},
   "source": [
    "## Converting from String to Float"
   ]
  },
  {
   "cell_type": "code",
   "execution_count": 8,
   "metadata": {},
   "outputs": [],
   "source": [
    "def convert_float(data):\n",
    "    if data is not np.nan:\n",
    "        return data.replace(',', '')\n",
    "    else:\n",
    "        return data"
   ]
  },
  {
   "cell_type": "code",
   "execution_count": 9,
   "metadata": {},
   "outputs": [],
   "source": [
    "covid_f['total_cases'] = covid_f['total_cases'].apply(convert_float).astype('float')\n",
    "covid_f['total_deaths'] = covid_f['total_deaths'].apply(convert_float).astype('float')\n",
    "covid_f['total_recovered'] = covid_f['total_recovered'].apply(convert_float).astype('float')\n",
    "covid_f['total_tests'] = covid_f['total_tests'].apply(convert_float).astype('float')\n",
    "covid_f['active_cases'] = covid_f['active_cases'].apply(convert_float).astype('float')\n",
    "covid_f['serious_critical'] = covid_f['serious_critical'].apply(convert_float).astype('float')\n",
    "covid_f['cases_over_1_m'] = covid_f['cases_over_1_m'].apply(convert_float).astype('float')\n",
    "covid_f['deaths_over_1_m'] = covid_f['deaths_over_1_m'].apply(convert_float).astype('float')\n",
    "covid_f['tests_over_1_m'] = covid_f['tests_over_1_m'].apply(convert_float).astype('float')"
   ]
  },
  {
   "cell_type": "code",
   "execution_count": 10,
   "metadata": {},
   "outputs": [
    {
     "data": {
      "text/plain": [
       "country              object\n",
       "total_cases         float64\n",
       "total_deaths        float64\n",
       "total_recovered     float64\n",
       "active_cases        float64\n",
       "serious_critical    float64\n",
       "cases_over_1_m      float64\n",
       "deaths_over_1_m     float64\n",
       "total_tests         float64\n",
       "tests_over_1_m      float64\n",
       "dtype: object"
      ]
     },
     "execution_count": 10,
     "metadata": {},
     "output_type": "execute_result"
    }
   ],
   "source": [
    "covid_f.dtypes"
   ]
  },
  {
   "cell_type": "markdown",
   "metadata": {},
   "source": [
    "## Missing values"
   ]
  },
  {
   "cell_type": "code",
   "execution_count": 12,
   "metadata": {},
   "outputs": [
    {
     "data": {
      "text/plain": [
       "Index(['country', 'total_cases', 'total_deaths', 'total_recovered',\n",
       "       'active_cases', 'serious_critical', 'cases_over_1_m', 'deaths_over_1_m',\n",
       "       'total_tests', 'tests_over_1_m'],\n",
       "      dtype='object')"
      ]
     },
     "execution_count": 12,
     "metadata": {},
     "output_type": "execute_result"
    }
   ],
   "source": [
    "covid_f.columns"
   ]
  },
  {
   "cell_type": "markdown",
   "metadata": {},
   "source": [
    "### 'total_deaths"
   ]
  },
  {
   "cell_type": "code",
   "execution_count": 17,
   "metadata": {},
   "outputs": [],
   "source": [
    "covid_f['total_deaths'].fillna(0, inplace=True)"
   ]
  },
  {
   "cell_type": "markdown",
   "metadata": {},
   "source": [
    "### 'total_recovered'"
   ]
  },
  {
   "cell_type": "code",
   "execution_count": 27,
   "metadata": {},
   "outputs": [
    {
     "data": {
      "text/plain": [
       "2446.244680851064"
      ]
     },
     "execution_count": 27,
     "metadata": {},
     "output_type": "execute_result"
    }
   ],
   "source": [
    "covid_f['total_recovered'].mean()"
   ]
  },
  {
   "cell_type": "code",
   "execution_count": 25,
   "metadata": {},
   "outputs": [],
   "source": [
    "# replace 'total_recovered' of 'UK' by mean of all countries 'total_recovered'\n",
    "covid_f.loc[6, 'total_recovered'] = covid_f['total_recovered'].mean()"
   ]
  },
  {
   "cell_type": "code",
   "execution_count": 29,
   "metadata": {},
   "outputs": [],
   "source": [
    "covid_f['total_recovered'].fillna(0, inplace=True)"
   ]
  },
  {
   "cell_type": "markdown",
   "metadata": {},
   "source": [
    "### 'active_cases'"
   ]
  },
  {
   "cell_type": "code",
   "execution_count": 30,
   "metadata": {},
   "outputs": [
    {
     "data": {
      "text/plain": [
       "0"
      ]
     },
     "execution_count": 30,
     "metadata": {},
     "output_type": "execute_result"
    }
   ],
   "source": [
    "covid_f['active_cases'].isnull().sum()"
   ]
  },
  {
   "cell_type": "markdown",
   "metadata": {},
   "source": [
    "### 'serious_critical'"
   ]
  },
  {
   "cell_type": "code",
   "execution_count": 34,
   "metadata": {},
   "outputs": [
    {
     "data": {
      "text/html": [
       "<div>\n",
       "<style scoped>\n",
       "    .dataframe tbody tr th:only-of-type {\n",
       "        vertical-align: middle;\n",
       "    }\n",
       "\n",
       "    .dataframe tbody tr th {\n",
       "        vertical-align: top;\n",
       "    }\n",
       "\n",
       "    .dataframe thead th {\n",
       "        text-align: right;\n",
       "    }\n",
       "</style>\n",
       "<table border=\"1\" class=\"dataframe\">\n",
       "  <thead>\n",
       "    <tr style=\"text-align: right;\">\n",
       "      <th></th>\n",
       "      <th>country</th>\n",
       "      <th>total_cases</th>\n",
       "      <th>total_deaths</th>\n",
       "      <th>total_recovered</th>\n",
       "      <th>active_cases</th>\n",
       "      <th>serious_critical</th>\n",
       "      <th>cases_over_1_m</th>\n",
       "      <th>deaths_over_1_m</th>\n",
       "      <th>total_tests</th>\n",
       "      <th>tests_over_1_m</th>\n",
       "    </tr>\n",
       "  </thead>\n",
       "  <tbody>\n",
       "    <tr>\n",
       "      <th>112</th>\n",
       "      <td>Vietnam</td>\n",
       "      <td>266.0</td>\n",
       "      <td>0.0</td>\n",
       "      <td>169.0</td>\n",
       "      <td>97.0</td>\n",
       "      <td>8.0</td>\n",
       "      <td>3.0</td>\n",
       "      <td>NaN</td>\n",
       "      <td>121821.0</td>\n",
       "      <td>1252.0</td>\n",
       "    </tr>\n",
       "  </tbody>\n",
       "</table>\n",
       "</div>"
      ],
      "text/plain": [
       "     country  total_cases  total_deaths  total_recovered  ...  cases_over_1_m  deaths_over_1_m  total_tests  tests_over_1_m\n",
       "112  Vietnam        266.0           0.0            169.0  ...             3.0              NaN     121821.0          1252.0\n",
       "\n",
       "[1 rows x 10 columns]"
      ]
     },
     "execution_count": 34,
     "metadata": {},
     "output_type": "execute_result"
    }
   ],
   "source": [
    "covid_f[covid_f['country'] == 'Vietnam']"
   ]
  },
  {
   "cell_type": "code",
   "execution_count": 38,
   "metadata": {},
   "outputs": [],
   "source": [
    "covid_f['serious_critical'].fillna(method='ffill', inplace=True)"
   ]
  },
  {
   "cell_type": "markdown",
   "metadata": {},
   "source": [
    "### cases_over_1_m"
   ]
  },
  {
   "cell_type": "code",
   "execution_count": 42,
   "metadata": {},
   "outputs": [
    {
     "data": {
      "text/html": [
       "<div>\n",
       "<style scoped>\n",
       "    .dataframe tbody tr th:only-of-type {\n",
       "        vertical-align: middle;\n",
       "    }\n",
       "\n",
       "    .dataframe tbody tr th {\n",
       "        vertical-align: top;\n",
       "    }\n",
       "\n",
       "    .dataframe thead th {\n",
       "        text-align: right;\n",
       "    }\n",
       "</style>\n",
       "<table border=\"1\" class=\"dataframe\">\n",
       "  <thead>\n",
       "    <tr style=\"text-align: right;\">\n",
       "      <th></th>\n",
       "      <th>country</th>\n",
       "      <th>total_cases</th>\n",
       "      <th>total_deaths</th>\n",
       "      <th>total_recovered</th>\n",
       "      <th>active_cases</th>\n",
       "      <th>serious_critical</th>\n",
       "      <th>cases_over_1_m</th>\n",
       "      <th>deaths_over_1_m</th>\n",
       "      <th>total_tests</th>\n",
       "      <th>tests_over_1_m</th>\n",
       "    </tr>\n",
       "  </thead>\n",
       "  <tbody>\n",
       "    <tr>\n",
       "      <th>83</th>\n",
       "      <td>Diamond Princess</td>\n",
       "      <td>712.0</td>\n",
       "      <td>12.0</td>\n",
       "      <td>639.0</td>\n",
       "      <td>61.0</td>\n",
       "      <td>7.0</td>\n",
       "      <td>NaN</td>\n",
       "      <td>NaN</td>\n",
       "      <td>NaN</td>\n",
       "      <td>NaN</td>\n",
       "    </tr>\n",
       "    <tr>\n",
       "      <th>194</th>\n",
       "      <td>MS Zaandam</td>\n",
       "      <td>9.0</td>\n",
       "      <td>2.0</td>\n",
       "      <td>0.0</td>\n",
       "      <td>7.0</td>\n",
       "      <td>1.0</td>\n",
       "      <td>NaN</td>\n",
       "      <td>NaN</td>\n",
       "      <td>NaN</td>\n",
       "      <td>NaN</td>\n",
       "    </tr>\n",
       "  </tbody>\n",
       "</table>\n",
       "</div>"
      ],
      "text/plain": [
       "              country  total_cases  total_deaths  ...  deaths_over_1_m  total_tests  tests_over_1_m\n",
       "83   Diamond Princess        712.0          12.0  ...              NaN          NaN             NaN\n",
       "194        MS Zaandam          9.0           2.0  ...              NaN          NaN             NaN\n",
       "\n",
       "[2 rows x 10 columns]"
      ]
     },
     "execution_count": 42,
     "metadata": {},
     "output_type": "execute_result"
    }
   ],
   "source": [
    "covid_f[covid_f['cases_over_1_m'].isnull()]"
   ]
  },
  {
   "cell_type": "code",
   "execution_count": 44,
   "metadata": {},
   "outputs": [],
   "source": [
    "covid_f.drop([83, 194], inplace=True)"
   ]
  },
  {
   "cell_type": "markdown",
   "metadata": {},
   "source": [
    "### 'deaths_over_1_m'"
   ]
  },
  {
   "cell_type": "code",
   "execution_count": 50,
   "metadata": {},
   "outputs": [],
   "source": [
    "covid_f['deaths_over_1_m'].fillna(0, inplace=True)"
   ]
  },
  {
   "cell_type": "markdown",
   "metadata": {},
   "source": [
    "### 'total_tests'"
   ]
  },
  {
   "cell_type": "code",
   "execution_count": 67,
   "metadata": {},
   "outputs": [],
   "source": [
    "covid_f['total_tests'].fillna('unknown', inplace=True)"
   ]
  },
  {
   "cell_type": "markdown",
   "metadata": {},
   "source": [
    "### 'tests_over_1_m'"
   ]
  },
  {
   "cell_type": "code",
   "execution_count": 70,
   "metadata": {},
   "outputs": [],
   "source": [
    "covid_f['tests_over_1_m'].fillna('unknown', inplace=True)"
   ]
  },
  {
   "cell_type": "code",
   "execution_count": 71,
   "metadata": {},
   "outputs": [
    {
     "name": "stdout",
     "output_type": "stream",
     "text": [
      "<class 'pandas.core.frame.DataFrame'>\n",
      "Int64Index: 210 entries, 1 to 212\n",
      "Data columns (total 10 columns):\n",
      " #   Column            Non-Null Count  Dtype  \n",
      "---  ------            --------------  -----  \n",
      " 0   country           210 non-null    object \n",
      " 1   total_cases       210 non-null    float64\n",
      " 2   total_deaths      210 non-null    float64\n",
      " 3   total_recovered   210 non-null    float64\n",
      " 4   active_cases      210 non-null    float64\n",
      " 5   serious_critical  210 non-null    float64\n",
      " 6   cases_over_1_m    210 non-null    float64\n",
      " 7   deaths_over_1_m   210 non-null    float64\n",
      " 8   total_tests       210 non-null    object \n",
      " 9   tests_over_1_m    210 non-null    object \n",
      "dtypes: float64(7), object(3)\n",
      "memory usage: 18.0+ KB\n"
     ]
    }
   ],
   "source": [
    "covid_f.info()"
   ]
  },
  {
   "cell_type": "code",
   "execution_count": 72,
   "metadata": {},
   "outputs": [],
   "source": [
    "covid_f.to_csv('wrangled_frame\\\\covid_f.csv', index=False)"
   ]
  },
  {
   "cell_type": "markdown",
   "metadata": {},
   "source": [
    "# Life Expectancy"
   ]
  },
  {
   "cell_type": "code",
   "execution_count": 73,
   "metadata": {},
   "outputs": [],
   "source": [
    "lei_f = pd.read_csv(data_path + '\\\\le_index_2019.csv')"
   ]
  },
  {
   "cell_type": "markdown",
   "metadata": {},
   "source": [
    "## Merge to 'covid_f'"
   ]
  },
  {
   "cell_type": "code",
   "execution_count": 74,
   "metadata": {},
   "outputs": [
    {
     "data": {
      "text/html": [
       "<div>\n",
       "<style scoped>\n",
       "    .dataframe tbody tr th:only-of-type {\n",
       "        vertical-align: middle;\n",
       "    }\n",
       "\n",
       "    .dataframe tbody tr th {\n",
       "        vertical-align: top;\n",
       "    }\n",
       "\n",
       "    .dataframe thead th {\n",
       "        text-align: right;\n",
       "    }\n",
       "</style>\n",
       "<table border=\"1\" class=\"dataframe\">\n",
       "  <thead>\n",
       "    <tr style=\"text-align: right;\">\n",
       "      <th></th>\n",
       "      <th>country</th>\n",
       "      <th>life_expectancy_index_2019</th>\n",
       "    </tr>\n",
       "    <tr>\n",
       "      <th>country</th>\n",
       "      <th></th>\n",
       "      <th></th>\n",
       "    </tr>\n",
       "  </thead>\n",
       "  <tbody>\n",
       "    <tr>\n",
       "      <th>False</th>\n",
       "      <td>U.S. Virgin Islands</td>\n",
       "      <td>81.17</td>\n",
       "    </tr>\n",
       "    <tr>\n",
       "      <th>False</th>\n",
       "      <td>Guam</td>\n",
       "      <td>80.74</td>\n",
       "    </tr>\n",
       "    <tr>\n",
       "      <th>False</th>\n",
       "      <td>Puerto Rico</td>\n",
       "      <td>80.69</td>\n",
       "    </tr>\n",
       "    <tr>\n",
       "      <th>False</th>\n",
       "      <td>Samoa</td>\n",
       "      <td>73.75</td>\n",
       "    </tr>\n",
       "    <tr>\n",
       "      <th>False</th>\n",
       "      <td>Solomon Islands</td>\n",
       "      <td>73.38</td>\n",
       "    </tr>\n",
       "    <tr>\n",
       "      <th>False</th>\n",
       "      <td>North Korea</td>\n",
       "      <td>72.89</td>\n",
       "    </tr>\n",
       "    <tr>\n",
       "      <th>False</th>\n",
       "      <td>Tajikistan</td>\n",
       "      <td>71.76</td>\n",
       "    </tr>\n",
       "    <tr>\n",
       "      <th>False</th>\n",
       "      <td>Tonga</td>\n",
       "      <td>71.32</td>\n",
       "    </tr>\n",
       "    <tr>\n",
       "      <th>False</th>\n",
       "      <td>Vanuatu</td>\n",
       "      <td>70.99</td>\n",
       "    </tr>\n",
       "    <tr>\n",
       "      <th>False</th>\n",
       "      <td>Kiribati</td>\n",
       "      <td>69.17</td>\n",
       "    </tr>\n",
       "    <tr>\n",
       "      <th>False</th>\n",
       "      <td>Turkmenistan</td>\n",
       "      <td>68.63</td>\n",
       "    </tr>\n",
       "    <tr>\n",
       "      <th>False</th>\n",
       "      <td>Comoros</td>\n",
       "      <td>65.03</td>\n",
       "    </tr>\n",
       "    <tr>\n",
       "      <th>False</th>\n",
       "      <td>Lesotho</td>\n",
       "      <td>55.65</td>\n",
       "    </tr>\n",
       "  </tbody>\n",
       "</table>\n",
       "</div>"
      ],
      "text/plain": [
       "                     country  life_expectancy_index_2019\n",
       "country                                                 \n",
       "False    U.S. Virgin Islands                       81.17\n",
       "False                   Guam                       80.74\n",
       "False            Puerto Rico                       80.69\n",
       "False                  Samoa                       73.75\n",
       "False        Solomon Islands                       73.38\n",
       "False            North Korea                       72.89\n",
       "False             Tajikistan                       71.76\n",
       "False                  Tonga                       71.32\n",
       "False                Vanuatu                       70.99\n",
       "False               Kiribati                       69.17\n",
       "False           Turkmenistan                       68.63\n",
       "False                Comoros                       65.03\n",
       "False                Lesotho                       55.65"
      ]
     },
     "execution_count": 74,
     "metadata": {},
     "output_type": "execute_result"
    }
   ],
   "source": [
    "# Checking the key value ('country')\n",
    "lei_f.set_index(lei_f['country'].isin(covid_f['country'])).loc[False]"
   ]
  },
  {
   "cell_type": "code",
   "execution_count": 80,
   "metadata": {},
   "outputs": [],
   "source": [
    "# merge \n",
    "merged_f = pd.merge(covid_f, lei_f, how='left')"
   ]
  },
  {
   "cell_type": "markdown",
   "metadata": {},
   "source": [
    "## Missing values"
   ]
  },
  {
   "cell_type": "code",
   "execution_count": 81,
   "metadata": {},
   "outputs": [
    {
     "data": {
      "text/plain": [
       "23"
      ]
     },
     "execution_count": 81,
     "metadata": {},
     "output_type": "execute_result"
    }
   ],
   "source": [
    "merged_f['life_expectancy_index_2019'].isnull().sum()"
   ]
  },
  {
   "cell_type": "code",
   "execution_count": 83,
   "metadata": {},
   "outputs": [
    {
     "data": {
      "text/plain": [
       "country                        object\n",
       "total_cases                   float64\n",
       "total_deaths                  float64\n",
       "total_recovered               float64\n",
       "active_cases                  float64\n",
       "serious_critical              float64\n",
       "cases_over_1_m                float64\n",
       "deaths_over_1_m               float64\n",
       "total_tests                    object\n",
       "tests_over_1_m                 object\n",
       "life_expectancy_index_2019    float64\n",
       "dtype: object"
      ]
     },
     "execution_count": 83,
     "metadata": {},
     "output_type": "execute_result"
    }
   ],
   "source": [
    "merged_f.dtypes"
   ]
  },
  {
   "cell_type": "markdown",
   "metadata": {},
   "source": [
    "# Corruption Perception Index"
   ]
  },
  {
   "cell_type": "code",
   "execution_count": 84,
   "metadata": {},
   "outputs": [],
   "source": [
    "cpi_f = pd.read_csv(data_path + '\\\\cpi_2019.csv')"
   ]
  },
  {
   "cell_type": "markdown",
   "metadata": {},
   "source": [
    "## Merge to 'covid_f'"
   ]
  },
  {
   "cell_type": "code",
   "execution_count": 86,
   "metadata": {},
   "outputs": [
    {
     "data": {
      "text/html": [
       "<div>\n",
       "<style scoped>\n",
       "    .dataframe tbody tr th:only-of-type {\n",
       "        vertical-align: middle;\n",
       "    }\n",
       "\n",
       "    .dataframe tbody tr th {\n",
       "        vertical-align: top;\n",
       "    }\n",
       "\n",
       "    .dataframe thead th {\n",
       "        text-align: right;\n",
       "    }\n",
       "</style>\n",
       "<table border=\"1\" class=\"dataframe\">\n",
       "  <thead>\n",
       "    <tr style=\"text-align: right;\">\n",
       "      <th></th>\n",
       "      <th>country</th>\n",
       "      <th>corruption_perception_index_2019</th>\n",
       "    </tr>\n",
       "    <tr>\n",
       "      <th>country</th>\n",
       "      <th></th>\n",
       "      <th></th>\n",
       "    </tr>\n",
       "  </thead>\n",
       "  <tbody>\n",
       "    <tr>\n",
       "      <th>False</th>\n",
       "      <td>Cape Verde</td>\n",
       "      <td>58</td>\n",
       "    </tr>\n",
       "    <tr>\n",
       "      <th>False</th>\n",
       "      <td>Solomon Islands</td>\n",
       "      <td>42</td>\n",
       "    </tr>\n",
       "    <tr>\n",
       "      <th>False</th>\n",
       "      <td>Lesotho</td>\n",
       "      <td>40</td>\n",
       "    </tr>\n",
       "    <tr>\n",
       "      <th>False</th>\n",
       "      <td>Kosovo</td>\n",
       "      <td>36</td>\n",
       "    </tr>\n",
       "    <tr>\n",
       "      <th>False</th>\n",
       "      <td>Comoros</td>\n",
       "      <td>25</td>\n",
       "    </tr>\n",
       "    <tr>\n",
       "      <th>False</th>\n",
       "      <td>Tajikistan</td>\n",
       "      <td>25</td>\n",
       "    </tr>\n",
       "    <tr>\n",
       "      <th>False</th>\n",
       "      <td>Turkmenistan</td>\n",
       "      <td>19</td>\n",
       "    </tr>\n",
       "    <tr>\n",
       "      <th>False</th>\n",
       "      <td>North Korea</td>\n",
       "      <td>17</td>\n",
       "    </tr>\n",
       "  </tbody>\n",
       "</table>\n",
       "</div>"
      ],
      "text/plain": [
       "                 country  corruption_perception_index_2019\n",
       "country                                                   \n",
       "False         Cape Verde                                58\n",
       "False    Solomon Islands                                42\n",
       "False            Lesotho                                40\n",
       "False             Kosovo                                36\n",
       "False            Comoros                                25\n",
       "False         Tajikistan                                25\n",
       "False       Turkmenistan                                19\n",
       "False        North Korea                                17"
      ]
     },
     "execution_count": 86,
     "metadata": {},
     "output_type": "execute_result"
    }
   ],
   "source": [
    "# check the key value\n",
    "cpi_f.set_index(cpi_f['country'].isin(covid_f['country'])).loc[False]"
   ]
  },
  {
   "cell_type": "code",
   "execution_count": 87,
   "metadata": {},
   "outputs": [],
   "source": [
    "merged_f = pd.merge(merged_f, cpi_f, how='left')"
   ]
  },
  {
   "cell_type": "code",
   "execution_count": 88,
   "metadata": {},
   "outputs": [
    {
     "name": "stdout",
     "output_type": "stream",
     "text": [
      "<class 'pandas.core.frame.DataFrame'>\n",
      "Int64Index: 210 entries, 0 to 209\n",
      "Data columns (total 12 columns):\n",
      " #   Column                            Non-Null Count  Dtype  \n",
      "---  ------                            --------------  -----  \n",
      " 0   country                           210 non-null    object \n",
      " 1   total_cases                       210 non-null    float64\n",
      " 2   total_deaths                      210 non-null    float64\n",
      " 3   total_recovered                   210 non-null    float64\n",
      " 4   active_cases                      210 non-null    float64\n",
      " 5   serious_critical                  210 non-null    float64\n",
      " 6   cases_over_1_m                    210 non-null    float64\n",
      " 7   deaths_over_1_m                   210 non-null    float64\n",
      " 8   total_tests                       210 non-null    object \n",
      " 9   tests_over_1_m                    210 non-null    object \n",
      " 10  life_expectancy_index_2019        187 non-null    float64\n",
      " 11  corruption_perception_index_2019  168 non-null    float64\n",
      "dtypes: float64(9), object(3)\n",
      "memory usage: 21.3+ KB\n"
     ]
    }
   ],
   "source": [
    "merged_f.info()"
   ]
  },
  {
   "cell_type": "markdown",
   "metadata": {},
   "source": [
    "# BRI Countries"
   ]
  },
  {
   "cell_type": "code",
   "execution_count": 89,
   "metadata": {},
   "outputs": [],
   "source": [
    "bri_f = pd.read_csv(data_path + '\\\\bri_countries.csv')"
   ]
  },
  {
   "cell_type": "markdown",
   "metadata": {},
   "source": [
    "## Merge to 'covid_f'"
   ]
  },
  {
   "cell_type": "code",
   "execution_count": 90,
   "metadata": {},
   "outputs": [
    {
     "data": {
      "text/html": [
       "<div>\n",
       "<style scoped>\n",
       "    .dataframe tbody tr th:only-of-type {\n",
       "        vertical-align: middle;\n",
       "    }\n",
       "\n",
       "    .dataframe tbody tr th {\n",
       "        vertical-align: top;\n",
       "    }\n",
       "\n",
       "    .dataframe thead th {\n",
       "        text-align: right;\n",
       "    }\n",
       "</style>\n",
       "<table border=\"1\" class=\"dataframe\">\n",
       "  <thead>\n",
       "    <tr style=\"text-align: right;\">\n",
       "      <th></th>\n",
       "      <th>bri_country</th>\n",
       "      <th>income_group</th>\n",
       "    </tr>\n",
       "    <tr>\n",
       "      <th>bri_country</th>\n",
       "      <th></th>\n",
       "      <th></th>\n",
       "    </tr>\n",
       "  </thead>\n",
       "  <tbody>\n",
       "    <tr>\n",
       "      <th>False</th>\n",
       "      <td>Cook Islands</td>\n",
       "      <td>NaN</td>\n",
       "    </tr>\n",
       "    <tr>\n",
       "      <th>False</th>\n",
       "      <td>Comoros</td>\n",
       "      <td>Low income</td>\n",
       "    </tr>\n",
       "    <tr>\n",
       "      <th>False</th>\n",
       "      <td>Kiribati</td>\n",
       "      <td>Lower middle income</td>\n",
       "    </tr>\n",
       "    <tr>\n",
       "      <th>False</th>\n",
       "      <td>Kyrgyz Republic</td>\n",
       "      <td>Lower middle income</td>\n",
       "    </tr>\n",
       "    <tr>\n",
       "      <th>False</th>\n",
       "      <td>Lesotho</td>\n",
       "      <td>Lower middle income</td>\n",
       "    </tr>\n",
       "    <tr>\n",
       "      <th>False</th>\n",
       "      <td>Micronesia</td>\n",
       "      <td>Lower middle income</td>\n",
       "    </tr>\n",
       "    <tr>\n",
       "      <th>False</th>\n",
       "      <td>Niue</td>\n",
       "      <td>NaN</td>\n",
       "    </tr>\n",
       "    <tr>\n",
       "      <th>False</th>\n",
       "      <td>Samoa</td>\n",
       "      <td>Upper middle income</td>\n",
       "    </tr>\n",
       "    <tr>\n",
       "      <th>False</th>\n",
       "      <td>Slovak Republic</td>\n",
       "      <td>High income</td>\n",
       "    </tr>\n",
       "    <tr>\n",
       "      <th>False</th>\n",
       "      <td>Solomon Islands</td>\n",
       "      <td>Lower middle income</td>\n",
       "    </tr>\n",
       "    <tr>\n",
       "      <th>False</th>\n",
       "      <td>Tajikistan</td>\n",
       "      <td>Low income</td>\n",
       "    </tr>\n",
       "    <tr>\n",
       "      <th>False</th>\n",
       "      <td>Tonga</td>\n",
       "      <td>Upper middle income</td>\n",
       "    </tr>\n",
       "    <tr>\n",
       "      <th>False</th>\n",
       "      <td>Vanuatu</td>\n",
       "      <td>Lower middle income</td>\n",
       "    </tr>\n",
       "  </tbody>\n",
       "</table>\n",
       "</div>"
      ],
      "text/plain": [
       "                 bri_country         income_group\n",
       "bri_country                                      \n",
       "False           Cook Islands                  NaN\n",
       "False                Comoros           Low income\n",
       "False               Kiribati  Lower middle income\n",
       "False        Kyrgyz Republic  Lower middle income\n",
       "False                Lesotho  Lower middle income\n",
       "False             Micronesia  Lower middle income\n",
       "False                   Niue                  NaN\n",
       "False                  Samoa  Upper middle income\n",
       "False        Slovak Republic          High income\n",
       "False        Solomon Islands  Lower middle income\n",
       "False             Tajikistan           Low income\n",
       "False                  Tonga  Upper middle income\n",
       "False                Vanuatu  Lower middle income"
      ]
     },
     "execution_count": 90,
     "metadata": {},
     "output_type": "execute_result"
    }
   ],
   "source": [
    "# check the key value\n",
    "bri_f.set_index(bri_f['bri_country'].isin(covid_f['country'])).loc[False]"
   ]
  },
  {
   "cell_type": "code",
   "execution_count": 91,
   "metadata": {},
   "outputs": [],
   "source": [
    "merged_f = pd.merge(merged_f, bri_f, left_on='country', right_on='bri_country', how='left')"
   ]
  },
  {
   "cell_type": "code",
   "execution_count": 92,
   "metadata": {},
   "outputs": [
    {
     "name": "stdout",
     "output_type": "stream",
     "text": [
      "<class 'pandas.core.frame.DataFrame'>\n",
      "Int64Index: 210 entries, 0 to 209\n",
      "Data columns (total 14 columns):\n",
      " #   Column                            Non-Null Count  Dtype  \n",
      "---  ------                            --------------  -----  \n",
      " 0   country                           210 non-null    object \n",
      " 1   total_cases                       210 non-null    float64\n",
      " 2   total_deaths                      210 non-null    float64\n",
      " 3   total_recovered                   210 non-null    float64\n",
      " 4   active_cases                      210 non-null    float64\n",
      " 5   serious_critical                  210 non-null    float64\n",
      " 6   cases_over_1_m                    210 non-null    float64\n",
      " 7   deaths_over_1_m                   210 non-null    float64\n",
      " 8   total_tests                       210 non-null    object \n",
      " 9   tests_over_1_m                    210 non-null    object \n",
      " 10  life_expectancy_index_2019        187 non-null    float64\n",
      " 11  corruption_perception_index_2019  168 non-null    float64\n",
      " 12  bri_country                       125 non-null    object \n",
      " 13  income_group                      125 non-null    object \n",
      "dtypes: float64(9), object(5)\n",
      "memory usage: 24.6+ KB\n"
     ]
    }
   ],
   "source": [
    "merged_f.info()"
   ]
  },
  {
   "cell_type": "markdown",
   "metadata": {},
   "source": [
    "## Map memership and non-membership bri countriy"
   ]
  },
  {
   "cell_type": "code",
   "execution_count": 101,
   "metadata": {},
   "outputs": [],
   "source": [
    "def bri_member(country):\n",
    "    if country is not np.nan:\n",
    "        return 'bri_member'\n",
    "    else:\n",
    "        return 'non_member'"
   ]
  },
  {
   "cell_type": "code",
   "execution_count": 103,
   "metadata": {},
   "outputs": [],
   "source": [
    "merged_f['bri_country'] = merged_f['bri_country'].apply(bri_member)"
   ]
  },
  {
   "cell_type": "markdown",
   "metadata": {},
   "source": [
    "# Country_by_Region"
   ]
  },
  {
   "cell_type": "code",
   "execution_count": 107,
   "metadata": {},
   "outputs": [],
   "source": [
    "cbr_f = pd.read_csv(data_path + '\\\\country_by_region.csv')"
   ]
  },
  {
   "cell_type": "markdown",
   "metadata": {},
   "source": [
    "## Merge to 'covid_f'"
   ]
  },
  {
   "cell_type": "code",
   "execution_count": 108,
   "metadata": {},
   "outputs": [
    {
     "data": {
      "text/html": [
       "<div>\n",
       "<style scoped>\n",
       "    .dataframe tbody tr th:only-of-type {\n",
       "        vertical-align: middle;\n",
       "    }\n",
       "\n",
       "    .dataframe tbody tr th {\n",
       "        vertical-align: top;\n",
       "    }\n",
       "\n",
       "    .dataframe thead th {\n",
       "        text-align: right;\n",
       "    }\n",
       "</style>\n",
       "<table border=\"1\" class=\"dataframe\">\n",
       "  <thead>\n",
       "    <tr style=\"text-align: right;\">\n",
       "      <th></th>\n",
       "      <th>country</th>\n",
       "      <th>region</th>\n",
       "      <th>continent</th>\n",
       "    </tr>\n",
       "    <tr>\n",
       "      <th>country</th>\n",
       "      <th></th>\n",
       "      <th></th>\n",
       "      <th></th>\n",
       "    </tr>\n",
       "  </thead>\n",
       "  <tbody>\n",
       "    <tr>\n",
       "      <th>False</th>\n",
       "      <td>North Korea</td>\n",
       "      <td>Eastern Asia</td>\n",
       "      <td>Asia</td>\n",
       "    </tr>\n",
       "    <tr>\n",
       "      <th>False</th>\n",
       "      <td>Tajikistan</td>\n",
       "      <td>Central Asia</td>\n",
       "      <td>Asia</td>\n",
       "    </tr>\n",
       "    <tr>\n",
       "      <th>False</th>\n",
       "      <td>Turkmenistan</td>\n",
       "      <td>Central Asia</td>\n",
       "      <td>Asia</td>\n",
       "    </tr>\n",
       "    <tr>\n",
       "      <th>False</th>\n",
       "      <td>Comoros</td>\n",
       "      <td>Eastern Africa</td>\n",
       "      <td>Africa</td>\n",
       "    </tr>\n",
       "    <tr>\n",
       "      <th>False</th>\n",
       "      <td>Lesotho</td>\n",
       "      <td>Southern Africa</td>\n",
       "      <td>Africa</td>\n",
       "    </tr>\n",
       "    <tr>\n",
       "      <th>False</th>\n",
       "      <td>Swaziland</td>\n",
       "      <td>Southern Africa</td>\n",
       "      <td>Africa</td>\n",
       "    </tr>\n",
       "    <tr>\n",
       "      <th>False</th>\n",
       "      <td>Puerto Rico</td>\n",
       "      <td>Caribbean</td>\n",
       "      <td>Latin America and Caribbean</td>\n",
       "    </tr>\n",
       "    <tr>\n",
       "      <th>False</th>\n",
       "      <td>United States Virgin Islands</td>\n",
       "      <td>Caribbean</td>\n",
       "      <td>Latin America and Caribbean</td>\n",
       "    </tr>\n",
       "    <tr>\n",
       "      <th>False</th>\n",
       "      <td>Solomon Islands</td>\n",
       "      <td>Melanesia</td>\n",
       "      <td>Oceania</td>\n",
       "    </tr>\n",
       "    <tr>\n",
       "      <th>False</th>\n",
       "      <td>Vanuatu</td>\n",
       "      <td>Melanesia</td>\n",
       "      <td>Oceania</td>\n",
       "    </tr>\n",
       "    <tr>\n",
       "      <th>False</th>\n",
       "      <td>Samoa</td>\n",
       "      <td>Polynesia</td>\n",
       "      <td>Oceania</td>\n",
       "    </tr>\n",
       "    <tr>\n",
       "      <th>False</th>\n",
       "      <td>Tonga</td>\n",
       "      <td>Polynesia</td>\n",
       "      <td>Oceania</td>\n",
       "    </tr>\n",
       "    <tr>\n",
       "      <th>False</th>\n",
       "      <td>American Samoa</td>\n",
       "      <td>Polynesia</td>\n",
       "      <td>Oceania</td>\n",
       "    </tr>\n",
       "    <tr>\n",
       "      <th>False</th>\n",
       "      <td>Cook Islands</td>\n",
       "      <td>Polynesia</td>\n",
       "      <td>Oceania</td>\n",
       "    </tr>\n",
       "    <tr>\n",
       "      <th>False</th>\n",
       "      <td>Wallis and Futuna Islands</td>\n",
       "      <td>Polynesia</td>\n",
       "      <td>Oceania</td>\n",
       "    </tr>\n",
       "    <tr>\n",
       "      <th>False</th>\n",
       "      <td>Tuvalu</td>\n",
       "      <td>Polynesia</td>\n",
       "      <td>Oceania</td>\n",
       "    </tr>\n",
       "    <tr>\n",
       "      <th>False</th>\n",
       "      <td>Niue</td>\n",
       "      <td>Polynesia</td>\n",
       "      <td>Oceania</td>\n",
       "    </tr>\n",
       "    <tr>\n",
       "      <th>False</th>\n",
       "      <td>Tokelau</td>\n",
       "      <td>Polynesia</td>\n",
       "      <td>Oceania</td>\n",
       "    </tr>\n",
       "    <tr>\n",
       "      <th>False</th>\n",
       "      <td>Guam</td>\n",
       "      <td>Micronesia</td>\n",
       "      <td>Oceania</td>\n",
       "    </tr>\n",
       "    <tr>\n",
       "      <th>False</th>\n",
       "      <td>Kiribati</td>\n",
       "      <td>Micronesia</td>\n",
       "      <td>Oceania</td>\n",
       "    </tr>\n",
       "    <tr>\n",
       "      <th>False</th>\n",
       "      <td>Micronesia</td>\n",
       "      <td>Micronesia</td>\n",
       "      <td>Oceania</td>\n",
       "    </tr>\n",
       "    <tr>\n",
       "      <th>False</th>\n",
       "      <td>Northern Mariana Islands</td>\n",
       "      <td>Micronesia</td>\n",
       "      <td>Oceania</td>\n",
       "    </tr>\n",
       "    <tr>\n",
       "      <th>False</th>\n",
       "      <td>Marshall Islands</td>\n",
       "      <td>Micronesia</td>\n",
       "      <td>Oceania</td>\n",
       "    </tr>\n",
       "    <tr>\n",
       "      <th>False</th>\n",
       "      <td>Palau</td>\n",
       "      <td>Micronesia</td>\n",
       "      <td>Oceania</td>\n",
       "    </tr>\n",
       "    <tr>\n",
       "      <th>False</th>\n",
       "      <td>Nauru</td>\n",
       "      <td>Micronesia</td>\n",
       "      <td>Oceania</td>\n",
       "    </tr>\n",
       "  </tbody>\n",
       "</table>\n",
       "</div>"
      ],
      "text/plain": [
       "                              country           region                    continent\n",
       "country                                                                            \n",
       "False                     North Korea     Eastern Asia                         Asia\n",
       "False                      Tajikistan     Central Asia                         Asia\n",
       "False                    Turkmenistan     Central Asia                         Asia\n",
       "False                         Comoros   Eastern Africa                       Africa\n",
       "False                         Lesotho  Southern Africa                       Africa\n",
       "False                       Swaziland  Southern Africa                       Africa\n",
       "False                     Puerto Rico        Caribbean  Latin America and Caribbean\n",
       "False    United States Virgin Islands        Caribbean  Latin America and Caribbean\n",
       "False                 Solomon Islands        Melanesia                      Oceania\n",
       "False                         Vanuatu        Melanesia                      Oceania\n",
       "False                           Samoa        Polynesia                      Oceania\n",
       "False                           Tonga        Polynesia                      Oceania\n",
       "False                  American Samoa        Polynesia                      Oceania\n",
       "False                    Cook Islands        Polynesia                      Oceania\n",
       "False       Wallis and Futuna Islands        Polynesia                      Oceania\n",
       "False                          Tuvalu        Polynesia                      Oceania\n",
       "False                            Niue        Polynesia                      Oceania\n",
       "False                         Tokelau        Polynesia                      Oceania\n",
       "False                            Guam       Micronesia                      Oceania\n",
       "False                        Kiribati       Micronesia                      Oceania\n",
       "False                      Micronesia       Micronesia                      Oceania\n",
       "False        Northern Mariana Islands       Micronesia                      Oceania\n",
       "False                Marshall Islands       Micronesia                      Oceania\n",
       "False                           Palau       Micronesia                      Oceania\n",
       "False                           Nauru       Micronesia                      Oceania"
      ]
     },
     "execution_count": 108,
     "metadata": {},
     "output_type": "execute_result"
    }
   ],
   "source": [
    "# check the key value\n",
    "cbr_f.set_index(cbr_f['country'].isin(covid_f['country'])).loc[False]"
   ]
  },
  {
   "cell_type": "code",
   "execution_count": 109,
   "metadata": {},
   "outputs": [],
   "source": [
    "merged_f = pd.merge(merged_f, cbr_f, how='left')"
   ]
  },
  {
   "cell_type": "code",
   "execution_count": 110,
   "metadata": {},
   "outputs": [
    {
     "name": "stdout",
     "output_type": "stream",
     "text": [
      "<class 'pandas.core.frame.DataFrame'>\n",
      "Int64Index: 210 entries, 0 to 209\n",
      "Data columns (total 16 columns):\n",
      " #   Column                            Non-Null Count  Dtype  \n",
      "---  ------                            --------------  -----  \n",
      " 0   country                           210 non-null    object \n",
      " 1   total_cases                       210 non-null    float64\n",
      " 2   total_deaths                      210 non-null    float64\n",
      " 3   total_recovered                   210 non-null    float64\n",
      " 4   active_cases                      210 non-null    float64\n",
      " 5   serious_critical                  210 non-null    float64\n",
      " 6   cases_over_1_m                    210 non-null    float64\n",
      " 7   deaths_over_1_m                   210 non-null    float64\n",
      " 8   total_tests                       210 non-null    object \n",
      " 9   tests_over_1_m                    210 non-null    object \n",
      " 10  life_expectancy_index_2019        187 non-null    float64\n",
      " 11  corruption_perception_index_2019  168 non-null    float64\n",
      " 12  bri_country                       210 non-null    object \n",
      " 13  income_group                      125 non-null    object \n",
      " 14  region                            209 non-null    object \n",
      " 15  continent                         209 non-null    object \n",
      "dtypes: float64(9), object(7)\n",
      "memory usage: 27.9+ KB\n"
     ]
    }
   ],
   "source": [
    "merged_f.info()"
   ]
  },
  {
   "cell_type": "markdown",
   "metadata": {},
   "source": [
    "## Missing values"
   ]
  },
  {
   "cell_type": "code",
   "execution_count": 111,
   "metadata": {},
   "outputs": [
    {
     "data": {
      "text/html": [
       "<div>\n",
       "<style scoped>\n",
       "    .dataframe tbody tr th:only-of-type {\n",
       "        vertical-align: middle;\n",
       "    }\n",
       "\n",
       "    .dataframe tbody tr th {\n",
       "        vertical-align: top;\n",
       "    }\n",
       "\n",
       "    .dataframe thead th {\n",
       "        text-align: right;\n",
       "    }\n",
       "</style>\n",
       "<table border=\"1\" class=\"dataframe\">\n",
       "  <thead>\n",
       "    <tr style=\"text-align: right;\">\n",
       "      <th></th>\n",
       "      <th>country</th>\n",
       "      <th>total_cases</th>\n",
       "      <th>total_deaths</th>\n",
       "      <th>total_recovered</th>\n",
       "      <th>active_cases</th>\n",
       "      <th>serious_critical</th>\n",
       "      <th>cases_over_1_m</th>\n",
       "      <th>deaths_over_1_m</th>\n",
       "      <th>total_tests</th>\n",
       "      <th>tests_over_1_m</th>\n",
       "      <th>life_expectancy_index_2019</th>\n",
       "      <th>corruption_perception_index_2019</th>\n",
       "      <th>bri_country</th>\n",
       "      <th>income_group</th>\n",
       "      <th>region</th>\n",
       "      <th>continent</th>\n",
       "    </tr>\n",
       "  </thead>\n",
       "  <tbody>\n",
       "    <tr>\n",
       "      <th>178</th>\n",
       "      <td>Eswatini</td>\n",
       "      <td>15.0</td>\n",
       "      <td>0.0</td>\n",
       "      <td>8.0</td>\n",
       "      <td>7.0</td>\n",
       "      <td>1.0</td>\n",
       "      <td>13.0</td>\n",
       "      <td>0.0</td>\n",
       "      <td>714</td>\n",
       "      <td>615</td>\n",
       "      <td>61.05</td>\n",
       "      <td>NaN</td>\n",
       "      <td>non_member</td>\n",
       "      <td>NaN</td>\n",
       "      <td>NaN</td>\n",
       "      <td>NaN</td>\n",
       "    </tr>\n",
       "  </tbody>\n",
       "</table>\n",
       "</div>"
      ],
      "text/plain": [
       "      country  total_cases  total_deaths  total_recovered  ...  bri_country  income_group  region  continent\n",
       "178  Eswatini         15.0           0.0              8.0  ...   non_member           NaN     NaN        NaN\n",
       "\n",
       "[1 rows x 16 columns]"
      ]
     },
     "execution_count": 111,
     "metadata": {},
     "output_type": "execute_result"
    }
   ],
   "source": [
    "merged_f[merged_f['region'].isnull()]"
   ]
  },
  {
   "cell_type": "code",
   "execution_count": 113,
   "metadata": {},
   "outputs": [],
   "source": [
    "merged_f.loc[178, 'region'] = 'Southern Africa'"
   ]
  },
  {
   "cell_type": "code",
   "execution_count": 115,
   "metadata": {},
   "outputs": [],
   "source": [
    "merged_f.loc[178, 'continent'] = 'Africa'"
   ]
  },
  {
   "cell_type": "code",
   "execution_count": 117,
   "metadata": {},
   "outputs": [
    {
     "name": "stdout",
     "output_type": "stream",
     "text": [
      "<class 'pandas.core.frame.DataFrame'>\n",
      "Int64Index: 210 entries, 0 to 209\n",
      "Data columns (total 16 columns):\n",
      " #   Column                            Non-Null Count  Dtype  \n",
      "---  ------                            --------------  -----  \n",
      " 0   country                           210 non-null    object \n",
      " 1   total_cases                       210 non-null    float64\n",
      " 2   total_deaths                      210 non-null    float64\n",
      " 3   total_recovered                   210 non-null    float64\n",
      " 4   active_cases                      210 non-null    float64\n",
      " 5   serious_critical                  210 non-null    float64\n",
      " 6   cases_over_1_m                    210 non-null    float64\n",
      " 7   deaths_over_1_m                   210 non-null    float64\n",
      " 8   total_tests                       210 non-null    object \n",
      " 9   tests_over_1_m                    210 non-null    object \n",
      " 10  life_expectancy_index_2019        187 non-null    float64\n",
      " 11  corruption_perception_index_2019  168 non-null    float64\n",
      " 12  bri_country                       210 non-null    object \n",
      " 13  income_group                      125 non-null    object \n",
      " 14  region                            210 non-null    object \n",
      " 15  continent                         210 non-null    object \n",
      "dtypes: float64(9), object(7)\n",
      "memory usage: 37.9+ KB\n"
     ]
    }
   ],
   "source": [
    "merged_f.info()"
   ]
  },
  {
   "cell_type": "markdown",
   "metadata": {},
   "source": [
    "# Demoracy Index"
   ]
  },
  {
   "cell_type": "code",
   "execution_count": 118,
   "metadata": {},
   "outputs": [],
   "source": [
    "di_f = pd.read_csv(data_path + '\\\\democracy_index_2019.csv')"
   ]
  },
  {
   "cell_type": "markdown",
   "metadata": {},
   "source": [
    "## Merge to 'covid_19'"
   ]
  },
  {
   "cell_type": "code",
   "execution_count": 119,
   "metadata": {},
   "outputs": [
    {
     "data": {
      "text/html": [
       "<div>\n",
       "<style scoped>\n",
       "    .dataframe tbody tr th:only-of-type {\n",
       "        vertical-align: middle;\n",
       "    }\n",
       "\n",
       "    .dataframe tbody tr th {\n",
       "        vertical-align: top;\n",
       "    }\n",
       "\n",
       "    .dataframe thead th {\n",
       "        text-align: right;\n",
       "    }\n",
       "</style>\n",
       "<table border=\"1\" class=\"dataframe\">\n",
       "  <thead>\n",
       "    <tr style=\"text-align: right;\">\n",
       "      <th></th>\n",
       "      <th>country</th>\n",
       "      <th>democracy_index_2019</th>\n",
       "    </tr>\n",
       "    <tr>\n",
       "      <th>country</th>\n",
       "      <th></th>\n",
       "      <th></th>\n",
       "    </tr>\n",
       "  </thead>\n",
       "  <tbody>\n",
       "    <tr>\n",
       "      <th>False</th>\n",
       "      <td>Cape Verde</td>\n",
       "      <td>77.8</td>\n",
       "    </tr>\n",
       "    <tr>\n",
       "      <th>False</th>\n",
       "      <td>Lesotho</td>\n",
       "      <td>65.4</td>\n",
       "    </tr>\n",
       "    <tr>\n",
       "      <th>False</th>\n",
       "      <td>Comoros</td>\n",
       "      <td>31.5</td>\n",
       "    </tr>\n",
       "    <tr>\n",
       "      <th>False</th>\n",
       "      <td>Tajikistan</td>\n",
       "      <td>19.3</td>\n",
       "    </tr>\n",
       "    <tr>\n",
       "      <th>False</th>\n",
       "      <td>Turkmenistan</td>\n",
       "      <td>17.2</td>\n",
       "    </tr>\n",
       "    <tr>\n",
       "      <th>False</th>\n",
       "      <td>North Korea</td>\n",
       "      <td>10.8</td>\n",
       "    </tr>\n",
       "  </tbody>\n",
       "</table>\n",
       "</div>"
      ],
      "text/plain": [
       "              country  democracy_index_2019\n",
       "country                                    \n",
       "False      Cape Verde                  77.8\n",
       "False         Lesotho                  65.4\n",
       "False         Comoros                  31.5\n",
       "False      Tajikistan                  19.3\n",
       "False    Turkmenistan                  17.2\n",
       "False     North Korea                  10.8"
      ]
     },
     "execution_count": 119,
     "metadata": {},
     "output_type": "execute_result"
    }
   ],
   "source": [
    "# check the key value\n",
    "di_f.set_index(di_f['country'].isin(covid_f['country'])).loc[False]"
   ]
  },
  {
   "cell_type": "code",
   "execution_count": 120,
   "metadata": {},
   "outputs": [],
   "source": [
    "merged_f = pd.merge(merged_f, di_f, how='left')"
   ]
  },
  {
   "cell_type": "code",
   "execution_count": 121,
   "metadata": {
    "scrolled": true
   },
   "outputs": [
    {
     "name": "stdout",
     "output_type": "stream",
     "text": [
      "<class 'pandas.core.frame.DataFrame'>\n",
      "Int64Index: 210 entries, 0 to 209\n",
      "Data columns (total 17 columns):\n",
      " #   Column                            Non-Null Count  Dtype  \n",
      "---  ------                            --------------  -----  \n",
      " 0   country                           210 non-null    object \n",
      " 1   total_cases                       210 non-null    float64\n",
      " 2   total_deaths                      210 non-null    float64\n",
      " 3   total_recovered                   210 non-null    float64\n",
      " 4   active_cases                      210 non-null    float64\n",
      " 5   serious_critical                  210 non-null    float64\n",
      " 6   cases_over_1_m                    210 non-null    float64\n",
      " 7   deaths_over_1_m                   210 non-null    float64\n",
      " 8   total_tests                       210 non-null    object \n",
      " 9   tests_over_1_m                    210 non-null    object \n",
      " 10  life_expectancy_index_2019        187 non-null    float64\n",
      " 11  corruption_perception_index_2019  168 non-null    float64\n",
      " 12  bri_country                       210 non-null    object \n",
      " 13  income_group                      125 non-null    object \n",
      " 14  region                            210 non-null    object \n",
      " 15  continent                         210 non-null    object \n",
      " 16  democracy_index_2019              161 non-null    float64\n",
      "dtypes: float64(10), object(7)\n",
      "memory usage: 29.5+ KB\n"
     ]
    }
   ],
   "source": [
    "merged_f.info()"
   ]
  },
  {
   "cell_type": "markdown",
   "metadata": {},
   "source": [
    "# Economic Freedom Index"
   ]
  },
  {
   "cell_type": "code",
   "execution_count": 122,
   "metadata": {},
   "outputs": [],
   "source": [
    "efi_f = pd.read_csv(data_path + '\\\\economic_freedom_index.csv')"
   ]
  },
  {
   "cell_type": "markdown",
   "metadata": {},
   "source": [
    "## Merge to 'covid_f'"
   ]
  },
  {
   "cell_type": "code",
   "execution_count": 123,
   "metadata": {},
   "outputs": [
    {
     "data": {
      "text/html": [
       "<div>\n",
       "<style scoped>\n",
       "    .dataframe tbody tr th:only-of-type {\n",
       "        vertical-align: middle;\n",
       "    }\n",
       "\n",
       "    .dataframe tbody tr th {\n",
       "        vertical-align: top;\n",
       "    }\n",
       "\n",
       "    .dataframe thead th {\n",
       "        text-align: right;\n",
       "    }\n",
       "</style>\n",
       "<table border=\"1\" class=\"dataframe\">\n",
       "  <thead>\n",
       "    <tr style=\"text-align: right;\">\n",
       "      <th></th>\n",
       "      <th>country</th>\n",
       "      <th>economic_freedom_index_2019</th>\n",
       "    </tr>\n",
       "    <tr>\n",
       "      <th>country</th>\n",
       "      <th></th>\n",
       "      <th></th>\n",
       "    </tr>\n",
       "  </thead>\n",
       "  <tbody>\n",
       "    <tr>\n",
       "      <th>False</th>\n",
       "      <td>Kosovo</td>\n",
       "      <td>67.0</td>\n",
       "    </tr>\n",
       "    <tr>\n",
       "      <th>False</th>\n",
       "      <td>Kyrgyz Republic</td>\n",
       "      <td>62.3</td>\n",
       "    </tr>\n",
       "    <tr>\n",
       "      <th>False</th>\n",
       "      <td>Samoa</td>\n",
       "      <td>62.2</td>\n",
       "    </tr>\n",
       "    <tr>\n",
       "      <th>False</th>\n",
       "      <td>Tonga</td>\n",
       "      <td>57.7</td>\n",
       "    </tr>\n",
       "    <tr>\n",
       "      <th>False</th>\n",
       "      <td>Vanuatu</td>\n",
       "      <td>56.4</td>\n",
       "    </tr>\n",
       "    <tr>\n",
       "      <th>False</th>\n",
       "      <td>Tajikistan</td>\n",
       "      <td>55.6</td>\n",
       "    </tr>\n",
       "    <tr>\n",
       "      <th>False</th>\n",
       "      <td>Comoros</td>\n",
       "      <td>55.4</td>\n",
       "    </tr>\n",
       "    <tr>\n",
       "      <th>False</th>\n",
       "      <td>Solomon Islands</td>\n",
       "      <td>54.6</td>\n",
       "    </tr>\n",
       "    <tr>\n",
       "      <th>False</th>\n",
       "      <td>Lesotho</td>\n",
       "      <td>53.1</td>\n",
       "    </tr>\n",
       "    <tr>\n",
       "      <th>False</th>\n",
       "      <td>The Gambia</td>\n",
       "      <td>52.4</td>\n",
       "    </tr>\n",
       "    <tr>\n",
       "      <th>False</th>\n",
       "      <td>Micronesia</td>\n",
       "      <td>51.9</td>\n",
       "    </tr>\n",
       "    <tr>\n",
       "      <th>False</th>\n",
       "      <td>Turkmenistan</td>\n",
       "      <td>48.4</td>\n",
       "    </tr>\n",
       "    <tr>\n",
       "      <th>False</th>\n",
       "      <td>Kiribati</td>\n",
       "      <td>47.3</td>\n",
       "    </tr>\n",
       "    <tr>\n",
       "      <th>False</th>\n",
       "      <td>North Korea</td>\n",
       "      <td>5.9</td>\n",
       "    </tr>\n",
       "  </tbody>\n",
       "</table>\n",
       "</div>"
      ],
      "text/plain": [
       "                 country  economic_freedom_index_2019\n",
       "country                                              \n",
       "False             Kosovo                         67.0\n",
       "False    Kyrgyz Republic                         62.3\n",
       "False              Samoa                         62.2\n",
       "False              Tonga                         57.7\n",
       "False            Vanuatu                         56.4\n",
       "False         Tajikistan                         55.6\n",
       "False            Comoros                         55.4\n",
       "False    Solomon Islands                         54.6\n",
       "False            Lesotho                         53.1\n",
       "False         The Gambia                         52.4\n",
       "False         Micronesia                         51.9\n",
       "False       Turkmenistan                         48.4\n",
       "False           Kiribati                         47.3\n",
       "False        North Korea                          5.9"
      ]
     },
     "execution_count": 123,
     "metadata": {},
     "output_type": "execute_result"
    }
   ],
   "source": [
    "# check the value key\n",
    "efi_f.set_index(efi_f['country'].isin(covid_f['country'])).loc[False]"
   ]
  },
  {
   "cell_type": "code",
   "execution_count": 124,
   "metadata": {},
   "outputs": [],
   "source": [
    "merged_f = pd.merge(merged_f, efi_f, how='left')"
   ]
  },
  {
   "cell_type": "code",
   "execution_count": 125,
   "metadata": {},
   "outputs": [
    {
     "name": "stdout",
     "output_type": "stream",
     "text": [
      "<class 'pandas.core.frame.DataFrame'>\n",
      "Int64Index: 210 entries, 0 to 209\n",
      "Data columns (total 18 columns):\n",
      " #   Column                            Non-Null Count  Dtype  \n",
      "---  ------                            --------------  -----  \n",
      " 0   country                           210 non-null    object \n",
      " 1   total_cases                       210 non-null    float64\n",
      " 2   total_deaths                      210 non-null    float64\n",
      " 3   total_recovered                   210 non-null    float64\n",
      " 4   active_cases                      210 non-null    float64\n",
      " 5   serious_critical                  210 non-null    float64\n",
      " 6   cases_over_1_m                    210 non-null    float64\n",
      " 7   deaths_over_1_m                   210 non-null    float64\n",
      " 8   total_tests                       210 non-null    object \n",
      " 9   tests_over_1_m                    210 non-null    object \n",
      " 10  life_expectancy_index_2019        187 non-null    float64\n",
      " 11  corruption_perception_index_2019  168 non-null    float64\n",
      " 12  bri_country                       210 non-null    object \n",
      " 13  income_group                      125 non-null    object \n",
      " 14  region                            210 non-null    object \n",
      " 15  continent                         210 non-null    object \n",
      " 16  democracy_index_2019              161 non-null    float64\n",
      " 17  economic_freedom_index_2019       166 non-null    float64\n",
      "dtypes: float64(11), object(7)\n",
      "memory usage: 31.2+ KB\n"
     ]
    }
   ],
   "source": [
    "merged_f.info()"
   ]
  },
  {
   "cell_type": "markdown",
   "metadata": {},
   "source": [
    "# Press Freedom Index"
   ]
  },
  {
   "cell_type": "code",
   "execution_count": 126,
   "metadata": {},
   "outputs": [],
   "source": [
    "pfi_f = pd.read_csv(data_path + '\\\\press_freedom_index.csv')"
   ]
  },
  {
   "cell_type": "markdown",
   "metadata": {},
   "source": [
    "## Merge to 'covid_f"
   ]
  },
  {
   "cell_type": "code",
   "execution_count": 127,
   "metadata": {},
   "outputs": [
    {
     "data": {
      "text/html": [
       "<div>\n",
       "<style scoped>\n",
       "    .dataframe tbody tr th:only-of-type {\n",
       "        vertical-align: middle;\n",
       "    }\n",
       "\n",
       "    .dataframe tbody tr th {\n",
       "        vertical-align: top;\n",
       "    }\n",
       "\n",
       "    .dataframe thead th {\n",
       "        text-align: right;\n",
       "    }\n",
       "</style>\n",
       "<table border=\"1\" class=\"dataframe\">\n",
       "  <thead>\n",
       "    <tr style=\"text-align: right;\">\n",
       "      <th></th>\n",
       "      <th>country</th>\n",
       "      <th>press_freedom_index_2019</th>\n",
       "    </tr>\n",
       "    <tr>\n",
       "      <th>country</th>\n",
       "      <th></th>\n",
       "      <th></th>\n",
       "    </tr>\n",
       "  </thead>\n",
       "  <tbody>\n",
       "    <tr>\n",
       "      <th>False</th>\n",
       "      <td>Samoa</td>\n",
       "      <td>81.75</td>\n",
       "    </tr>\n",
       "    <tr>\n",
       "      <th>False</th>\n",
       "      <td>Cape Verde</td>\n",
       "      <td>80.19</td>\n",
       "    </tr>\n",
       "    <tr>\n",
       "      <th>False</th>\n",
       "      <td>Tonga</td>\n",
       "      <td>74.59</td>\n",
       "    </tr>\n",
       "    <tr>\n",
       "      <th>False</th>\n",
       "      <td>Organisation of Eastern Caribbean States</td>\n",
       "      <td>73.96</td>\n",
       "    </tr>\n",
       "    <tr>\n",
       "      <th>False</th>\n",
       "      <td>Comoros</td>\n",
       "      <td>72.09</td>\n",
       "    </tr>\n",
       "    <tr>\n",
       "      <th>False</th>\n",
       "      <td>Northern Cyprus</td>\n",
       "      <td>70.33</td>\n",
       "    </tr>\n",
       "    <tr>\n",
       "      <th>False</th>\n",
       "      <td>Kosovo</td>\n",
       "      <td>70.32</td>\n",
       "    </tr>\n",
       "    <tr>\n",
       "      <th>False</th>\n",
       "      <td>Lesotho</td>\n",
       "      <td>70.26</td>\n",
       "    </tr>\n",
       "    <tr>\n",
       "      <th>False</th>\n",
       "      <td>Swaziland</td>\n",
       "      <td>50.91</td>\n",
       "    </tr>\n",
       "    <tr>\n",
       "      <th>False</th>\n",
       "      <td>Tajikistan</td>\n",
       "      <td>45.98</td>\n",
       "    </tr>\n",
       "    <tr>\n",
       "      <th>False</th>\n",
       "      <td>North Korea</td>\n",
       "      <td>16.60</td>\n",
       "    </tr>\n",
       "    <tr>\n",
       "      <th>False</th>\n",
       "      <td>Turkmenistan</td>\n",
       "      <td>14.56</td>\n",
       "    </tr>\n",
       "  </tbody>\n",
       "</table>\n",
       "</div>"
      ],
      "text/plain": [
       "                                          country  press_freedom_index_2019\n",
       "country                                                                    \n",
       "False                                       Samoa                     81.75\n",
       "False                                  Cape Verde                     80.19\n",
       "False                                       Tonga                     74.59\n",
       "False    Organisation of Eastern Caribbean States                     73.96\n",
       "False                                     Comoros                     72.09\n",
       "False                             Northern Cyprus                     70.33\n",
       "False                                      Kosovo                     70.32\n",
       "False                                     Lesotho                     70.26\n",
       "False                                   Swaziland                     50.91\n",
       "False                                  Tajikistan                     45.98\n",
       "False                                 North Korea                     16.60\n",
       "False                                Turkmenistan                     14.56"
      ]
     },
     "execution_count": 127,
     "metadata": {},
     "output_type": "execute_result"
    }
   ],
   "source": [
    "# check the key value\n",
    "pfi_f.set_index(pfi_f['country'].isin(covid_f['country'])).loc[False]"
   ]
  },
  {
   "cell_type": "code",
   "execution_count": 130,
   "metadata": {},
   "outputs": [],
   "source": [
    "merged_f = pd.merge(merged_f, pfi_f, how='left')"
   ]
  },
  {
   "cell_type": "code",
   "execution_count": 131,
   "metadata": {},
   "outputs": [
    {
     "name": "stdout",
     "output_type": "stream",
     "text": [
      "<class 'pandas.core.frame.DataFrame'>\n",
      "Int64Index: 210 entries, 0 to 209\n",
      "Data columns (total 19 columns):\n",
      " #   Column                            Non-Null Count  Dtype  \n",
      "---  ------                            --------------  -----  \n",
      " 0   country                           210 non-null    object \n",
      " 1   total_cases                       210 non-null    float64\n",
      " 2   total_deaths                      210 non-null    float64\n",
      " 3   total_recovered                   210 non-null    float64\n",
      " 4   active_cases                      210 non-null    float64\n",
      " 5   serious_critical                  210 non-null    float64\n",
      " 6   cases_over_1_m                    210 non-null    float64\n",
      " 7   deaths_over_1_m                   210 non-null    float64\n",
      " 8   total_tests                       210 non-null    object \n",
      " 9   tests_over_1_m                    210 non-null    object \n",
      " 10  life_expectancy_index_2019        187 non-null    float64\n",
      " 11  corruption_perception_index_2019  168 non-null    float64\n",
      " 12  bri_country                       210 non-null    object \n",
      " 13  income_group                      125 non-null    object \n",
      " 14  region                            210 non-null    object \n",
      " 15  continent                         210 non-null    object \n",
      " 16  democracy_index_2019              161 non-null    float64\n",
      " 17  economic_freedom_index_2019       166 non-null    float64\n",
      " 18  press_freedom_index_2019          168 non-null    float64\n",
      "dtypes: float64(12), object(7)\n",
      "memory usage: 32.8+ KB\n"
     ]
    }
   ],
   "source": [
    "merged_f.info()"
   ]
  },
  {
   "cell_type": "markdown",
   "metadata": {},
   "source": [
    "# World Happiness Index"
   ]
  },
  {
   "cell_type": "code",
   "execution_count": 132,
   "metadata": {},
   "outputs": [],
   "source": [
    "hi_f = pd.read_csv(data_path + '\\\\world_happiness_index.csv')"
   ]
  },
  {
   "cell_type": "code",
   "execution_count": 133,
   "metadata": {},
   "outputs": [],
   "source": [
    "hi_f = hi_f[['country', 'happiness_index_2019']]"
   ]
  },
  {
   "cell_type": "markdown",
   "metadata": {},
   "source": [
    "## Merge to 'covid_f'"
   ]
  },
  {
   "cell_type": "code",
   "execution_count": 134,
   "metadata": {},
   "outputs": [
    {
     "data": {
      "text/html": [
       "<div>\n",
       "<style scoped>\n",
       "    .dataframe tbody tr th:only-of-type {\n",
       "        vertical-align: middle;\n",
       "    }\n",
       "\n",
       "    .dataframe tbody tr th {\n",
       "        vertical-align: top;\n",
       "    }\n",
       "\n",
       "    .dataframe thead th {\n",
       "        text-align: right;\n",
       "    }\n",
       "</style>\n",
       "<table border=\"1\" class=\"dataframe\">\n",
       "  <thead>\n",
       "    <tr style=\"text-align: right;\">\n",
       "      <th></th>\n",
       "      <th>country</th>\n",
       "      <th>happiness_index_2019</th>\n",
       "    </tr>\n",
       "    <tr>\n",
       "      <th>country</th>\n",
       "      <th></th>\n",
       "      <th></th>\n",
       "    </tr>\n",
       "  </thead>\n",
       "  <tbody>\n",
       "    <tr>\n",
       "      <th>False</th>\n",
       "      <td>Trinidad &amp; Tobago</td>\n",
       "      <td>6.192</td>\n",
       "    </tr>\n",
       "    <tr>\n",
       "      <th>False</th>\n",
       "      <td>Kosovo</td>\n",
       "      <td>6.100</td>\n",
       "    </tr>\n",
       "    <tr>\n",
       "      <th>False</th>\n",
       "      <td>Northern Cyprus</td>\n",
       "      <td>5.718</td>\n",
       "    </tr>\n",
       "    <tr>\n",
       "      <th>False</th>\n",
       "      <td>Tajikistan</td>\n",
       "      <td>5.467</td>\n",
       "    </tr>\n",
       "    <tr>\n",
       "      <th>False</th>\n",
       "      <td>Turkmenistan</td>\n",
       "      <td>5.247</td>\n",
       "    </tr>\n",
       "    <tr>\n",
       "      <th>False</th>\n",
       "      <td>Palestinian Territories</td>\n",
       "      <td>4.696</td>\n",
       "    </tr>\n",
       "    <tr>\n",
       "      <th>False</th>\n",
       "      <td>Comoros</td>\n",
       "      <td>3.973</td>\n",
       "    </tr>\n",
       "    <tr>\n",
       "      <th>False</th>\n",
       "      <td>Lesotho</td>\n",
       "      <td>3.802</td>\n",
       "    </tr>\n",
       "  </tbody>\n",
       "</table>\n",
       "</div>"
      ],
      "text/plain": [
       "                         country  happiness_index_2019\n",
       "country                                               \n",
       "False          Trinidad & Tobago                 6.192\n",
       "False                     Kosovo                 6.100\n",
       "False            Northern Cyprus                 5.718\n",
       "False                 Tajikistan                 5.467\n",
       "False               Turkmenistan                 5.247\n",
       "False    Palestinian Territories                 4.696\n",
       "False                    Comoros                 3.973\n",
       "False                    Lesotho                 3.802"
      ]
     },
     "execution_count": 134,
     "metadata": {},
     "output_type": "execute_result"
    }
   ],
   "source": [
    "hi_f.set_index(hi_f['country'].isin(covid_f['country'])).loc[False]"
   ]
  },
  {
   "cell_type": "markdown",
   "metadata": {},
   "source": [
    "## Convert Index from 10 unit to 100 unit"
   ]
  },
  {
   "cell_type": "code",
   "execution_count": 135,
   "metadata": {},
   "outputs": [],
   "source": [
    "hi_f[hi_f.columns[1]] *= 10"
   ]
  },
  {
   "cell_type": "code",
   "execution_count": 136,
   "metadata": {},
   "outputs": [
    {
     "data": {
      "text/html": [
       "<div>\n",
       "<style scoped>\n",
       "    .dataframe tbody tr th:only-of-type {\n",
       "        vertical-align: middle;\n",
       "    }\n",
       "\n",
       "    .dataframe tbody tr th {\n",
       "        vertical-align: top;\n",
       "    }\n",
       "\n",
       "    .dataframe thead th {\n",
       "        text-align: right;\n",
       "    }\n",
       "</style>\n",
       "<table border=\"1\" class=\"dataframe\">\n",
       "  <thead>\n",
       "    <tr style=\"text-align: right;\">\n",
       "      <th></th>\n",
       "      <th>country</th>\n",
       "      <th>happiness_index_2019</th>\n",
       "    </tr>\n",
       "  </thead>\n",
       "  <tbody>\n",
       "    <tr>\n",
       "      <th>0</th>\n",
       "      <td>Finland</td>\n",
       "      <td>77.69</td>\n",
       "    </tr>\n",
       "    <tr>\n",
       "      <th>1</th>\n",
       "      <td>Denmark</td>\n",
       "      <td>76.00</td>\n",
       "    </tr>\n",
       "    <tr>\n",
       "      <th>2</th>\n",
       "      <td>Norway</td>\n",
       "      <td>75.54</td>\n",
       "    </tr>\n",
       "    <tr>\n",
       "      <th>3</th>\n",
       "      <td>Iceland</td>\n",
       "      <td>74.94</td>\n",
       "    </tr>\n",
       "    <tr>\n",
       "      <th>4</th>\n",
       "      <td>Netherlands</td>\n",
       "      <td>74.88</td>\n",
       "    </tr>\n",
       "    <tr>\n",
       "      <th>...</th>\n",
       "      <td>...</td>\n",
       "      <td>...</td>\n",
       "    </tr>\n",
       "    <tr>\n",
       "      <th>151</th>\n",
       "      <td>Rwanda</td>\n",
       "      <td>33.34</td>\n",
       "    </tr>\n",
       "    <tr>\n",
       "      <th>152</th>\n",
       "      <td>Tanzania</td>\n",
       "      <td>32.31</td>\n",
       "    </tr>\n",
       "    <tr>\n",
       "      <th>153</th>\n",
       "      <td>Afghanistan</td>\n",
       "      <td>32.03</td>\n",
       "    </tr>\n",
       "    <tr>\n",
       "      <th>154</th>\n",
       "      <td>Central African Republic</td>\n",
       "      <td>30.83</td>\n",
       "    </tr>\n",
       "    <tr>\n",
       "      <th>155</th>\n",
       "      <td>South Sudan</td>\n",
       "      <td>28.53</td>\n",
       "    </tr>\n",
       "  </tbody>\n",
       "</table>\n",
       "<p>156 rows × 2 columns</p>\n",
       "</div>"
      ],
      "text/plain": [
       "                      country  happiness_index_2019\n",
       "0                     Finland                 77.69\n",
       "1                     Denmark                 76.00\n",
       "2                      Norway                 75.54\n",
       "3                     Iceland                 74.94\n",
       "4                 Netherlands                 74.88\n",
       "..                        ...                   ...\n",
       "151                    Rwanda                 33.34\n",
       "152                  Tanzania                 32.31\n",
       "153               Afghanistan                 32.03\n",
       "154  Central African Republic                 30.83\n",
       "155               South Sudan                 28.53\n",
       "\n",
       "[156 rows x 2 columns]"
      ]
     },
     "execution_count": 136,
     "metadata": {},
     "output_type": "execute_result"
    }
   ],
   "source": [
    "hi_f"
   ]
  },
  {
   "cell_type": "code",
   "execution_count": 137,
   "metadata": {},
   "outputs": [],
   "source": [
    "merged_f = pd.merge(merged_f, hi_f, how='left')"
   ]
  },
  {
   "cell_type": "code",
   "execution_count": 138,
   "metadata": {},
   "outputs": [
    {
     "name": "stdout",
     "output_type": "stream",
     "text": [
      "<class 'pandas.core.frame.DataFrame'>\n",
      "Int64Index: 210 entries, 0 to 209\n",
      "Data columns (total 20 columns):\n",
      " #   Column                            Non-Null Count  Dtype  \n",
      "---  ------                            --------------  -----  \n",
      " 0   country                           210 non-null    object \n",
      " 1   total_cases                       210 non-null    float64\n",
      " 2   total_deaths                      210 non-null    float64\n",
      " 3   total_recovered                   210 non-null    float64\n",
      " 4   active_cases                      210 non-null    float64\n",
      " 5   serious_critical                  210 non-null    float64\n",
      " 6   cases_over_1_m                    210 non-null    float64\n",
      " 7   deaths_over_1_m                   210 non-null    float64\n",
      " 8   total_tests                       210 non-null    object \n",
      " 9   tests_over_1_m                    210 non-null    object \n",
      " 10  life_expectancy_index_2019        187 non-null    float64\n",
      " 11  corruption_perception_index_2019  168 non-null    float64\n",
      " 12  bri_country                       210 non-null    object \n",
      " 13  income_group                      125 non-null    object \n",
      " 14  region                            210 non-null    object \n",
      " 15  continent                         210 non-null    object \n",
      " 16  democracy_index_2019              161 non-null    float64\n",
      " 17  economic_freedom_index_2019       166 non-null    float64\n",
      " 18  press_freedom_index_2019          168 non-null    float64\n",
      " 19  happiness_index_2019              148 non-null    float64\n",
      "dtypes: float64(13), object(7)\n",
      "memory usage: 34.5+ KB\n"
     ]
    }
   ],
   "source": [
    "merged_f.info()"
   ]
  },
  {
   "cell_type": "markdown",
   "metadata": {},
   "source": [
    "# Reorder of features"
   ]
  },
  {
   "cell_type": "code",
   "execution_count": 141,
   "metadata": {},
   "outputs": [
    {
     "data": {
      "text/plain": [
       "Index(['country', 'total_cases', 'total_deaths', 'total_recovered',\n",
       "       'active_cases', 'serious_critical', 'cases_over_1_m', 'deaths_over_1_m',\n",
       "       'total_tests', 'tests_over_1_m', 'life_expectancy_index_2019',\n",
       "       'corruption_perception_index_2019', 'bri_country', 'income_group',\n",
       "       'region', 'continent', 'democracy_index_2019',\n",
       "       'economic_freedom_index_2019', 'press_freedom_index_2019',\n",
       "       'happiness_index_2019'],\n",
       "      dtype='object')"
      ]
     },
     "execution_count": 141,
     "metadata": {},
     "output_type": "execute_result"
    }
   ],
   "source": [
    "merged_f.columns"
   ]
  },
  {
   "cell_type": "code",
   "execution_count": 143,
   "metadata": {},
   "outputs": [],
   "source": [
    "merged_f = merged_f[['country', 'region', 'continent', 'bri_country', 'income_group',\n",
    "                    'total_cases', 'total_deaths', 'total_recovered', 'total_tests',\n",
    "                    'active_cases', 'serious_critical', 'cases_over_1_m', 'deaths_over_1_m', 'tests_over_1_m',\n",
    "                    'life_expectancy_index_2019',  'happiness_index_2019', 'corruption_perception_index_2019',\n",
    "                    'democracy_index_2019', 'economic_freedom_index_2019', 'press_freedom_index_2019']]"
   ]
  },
  {
   "cell_type": "markdown",
   "metadata": {},
   "source": [
    "## Rename features"
   ]
  },
  {
   "cell_type": "code",
   "execution_count": 147,
   "metadata": {},
   "outputs": [],
   "source": [
    "merged_f.rename(columns={'income_group':'bri_member_income_group'}, inplace=True)"
   ]
  },
  {
   "cell_type": "code",
   "execution_count": 148,
   "metadata": {},
   "outputs": [
    {
     "data": {
      "text/html": [
       "<div>\n",
       "<style scoped>\n",
       "    .dataframe tbody tr th:only-of-type {\n",
       "        vertical-align: middle;\n",
       "    }\n",
       "\n",
       "    .dataframe tbody tr th {\n",
       "        vertical-align: top;\n",
       "    }\n",
       "\n",
       "    .dataframe thead th {\n",
       "        text-align: right;\n",
       "    }\n",
       "</style>\n",
       "<table border=\"1\" class=\"dataframe\">\n",
       "  <thead>\n",
       "    <tr style=\"text-align: right;\">\n",
       "      <th></th>\n",
       "      <th>country</th>\n",
       "      <th>region</th>\n",
       "      <th>continent</th>\n",
       "      <th>bri_country</th>\n",
       "      <th>bri_member_income_group</th>\n",
       "      <th>total_cases</th>\n",
       "      <th>total_deaths</th>\n",
       "      <th>total_recovered</th>\n",
       "      <th>total_tests</th>\n",
       "      <th>active_cases</th>\n",
       "      <th>serious_critical</th>\n",
       "      <th>cases_over_1_m</th>\n",
       "      <th>deaths_over_1_m</th>\n",
       "      <th>tests_over_1_m</th>\n",
       "      <th>life_expectancy_index_2019</th>\n",
       "      <th>happiness_index_2019</th>\n",
       "      <th>corruption_perception_index_2019</th>\n",
       "      <th>democracy_index_2019</th>\n",
       "      <th>economic_freedom_index_2019</th>\n",
       "      <th>press_freedom_index_2019</th>\n",
       "    </tr>\n",
       "  </thead>\n",
       "  <tbody>\n",
       "    <tr>\n",
       "      <th>0</th>\n",
       "      <td>USA</td>\n",
       "      <td>Northern America</td>\n",
       "      <td>Northern America</td>\n",
       "      <td>non_member</td>\n",
       "      <td>NaN</td>\n",
       "      <td>588465.0</td>\n",
       "      <td>23711.0</td>\n",
       "      <td>37326.0</td>\n",
       "      <td>2.96182e+06</td>\n",
       "      <td>527428.0</td>\n",
       "      <td>12772.0</td>\n",
       "      <td>1778.0</td>\n",
       "      <td>72.0</td>\n",
       "      <td>8948</td>\n",
       "      <td>79.11</td>\n",
       "      <td>68.92</td>\n",
       "      <td>69.0</td>\n",
       "      <td>79.6</td>\n",
       "      <td>76.8</td>\n",
       "      <td>74.31</td>\n",
       "    </tr>\n",
       "    <tr>\n",
       "      <th>1</th>\n",
       "      <td>Spain</td>\n",
       "      <td>Southern Europe</td>\n",
       "      <td>Europe</td>\n",
       "      <td>non_member</td>\n",
       "      <td>NaN</td>\n",
       "      <td>172541.0</td>\n",
       "      <td>18056.0</td>\n",
       "      <td>67504.0</td>\n",
       "      <td>600000</td>\n",
       "      <td>86981.0</td>\n",
       "      <td>7371.0</td>\n",
       "      <td>3690.0</td>\n",
       "      <td>386.0</td>\n",
       "      <td>12833</td>\n",
       "      <td>83.99</td>\n",
       "      <td>63.54</td>\n",
       "      <td>62.0</td>\n",
       "      <td>82.9</td>\n",
       "      <td>65.7</td>\n",
       "      <td>78.01</td>\n",
       "    </tr>\n",
       "    <tr>\n",
       "      <th>2</th>\n",
       "      <td>Italy</td>\n",
       "      <td>Southern Europe</td>\n",
       "      <td>Europe</td>\n",
       "      <td>bri_member</td>\n",
       "      <td>High income</td>\n",
       "      <td>159516.0</td>\n",
       "      <td>20465.0</td>\n",
       "      <td>35435.0</td>\n",
       "      <td>1.04691e+06</td>\n",
       "      <td>103616.0</td>\n",
       "      <td>3260.0</td>\n",
       "      <td>2638.0</td>\n",
       "      <td>338.0</td>\n",
       "      <td>17315</td>\n",
       "      <td>84.01</td>\n",
       "      <td>62.23</td>\n",
       "      <td>53.0</td>\n",
       "      <td>75.2</td>\n",
       "      <td>62.2</td>\n",
       "      <td>75.02</td>\n",
       "    </tr>\n",
       "    <tr>\n",
       "      <th>3</th>\n",
       "      <td>France</td>\n",
       "      <td>Western Europe</td>\n",
       "      <td>Europe</td>\n",
       "      <td>non_member</td>\n",
       "      <td>NaN</td>\n",
       "      <td>136779.0</td>\n",
       "      <td>14967.0</td>\n",
       "      <td>27718.0</td>\n",
       "      <td>333807</td>\n",
       "      <td>94094.0</td>\n",
       "      <td>6821.0</td>\n",
       "      <td>2095.0</td>\n",
       "      <td>229.0</td>\n",
       "      <td>5114</td>\n",
       "      <td>83.13</td>\n",
       "      <td>65.92</td>\n",
       "      <td>69.0</td>\n",
       "      <td>81.2</td>\n",
       "      <td>63.8</td>\n",
       "      <td>77.79</td>\n",
       "    </tr>\n",
       "    <tr>\n",
       "      <th>4</th>\n",
       "      <td>Germany</td>\n",
       "      <td>Western Europe</td>\n",
       "      <td>Europe</td>\n",
       "      <td>non_member</td>\n",
       "      <td>NaN</td>\n",
       "      <td>130434.0</td>\n",
       "      <td>3220.0</td>\n",
       "      <td>68200.0</td>\n",
       "      <td>1.31789e+06</td>\n",
       "      <td>59014.0</td>\n",
       "      <td>4288.0</td>\n",
       "      <td>1557.0</td>\n",
       "      <td>38.0</td>\n",
       "      <td>15730</td>\n",
       "      <td>81.88</td>\n",
       "      <td>69.85</td>\n",
       "      <td>80.0</td>\n",
       "      <td>86.8</td>\n",
       "      <td>73.5</td>\n",
       "      <td>85.40</td>\n",
       "    </tr>\n",
       "  </tbody>\n",
       "</table>\n",
       "</div>"
      ],
      "text/plain": [
       "   country            region  ... economic_freedom_index_2019 press_freedom_index_2019\n",
       "0      USA  Northern America  ...                        76.8                    74.31\n",
       "1    Spain   Southern Europe  ...                        65.7                    78.01\n",
       "2    Italy   Southern Europe  ...                        62.2                    75.02\n",
       "3   France    Western Europe  ...                        63.8                    77.79\n",
       "4  Germany    Western Europe  ...                        73.5                    85.40\n",
       "\n",
       "[5 rows x 20 columns]"
      ]
     },
     "execution_count": 148,
     "metadata": {},
     "output_type": "execute_result"
    }
   ],
   "source": [
    "merged_f.head()"
   ]
  },
  {
   "cell_type": "markdown",
   "metadata": {},
   "source": [
    "# Handle missing values"
   ]
  },
  {
   "cell_type": "code",
   "execution_count": 149,
   "metadata": {},
   "outputs": [
    {
     "name": "stdout",
     "output_type": "stream",
     "text": [
      "country : 0\n",
      "region : 0\n",
      "continent : 0\n",
      "bri_country : 0\n",
      "bri_member_income_group : 85\n",
      "total_cases : 0\n",
      "total_deaths : 0\n",
      "total_recovered : 0\n",
      "total_tests : 0\n",
      "active_cases : 0\n",
      "serious_critical : 0\n",
      "cases_over_1_m : 0\n",
      "deaths_over_1_m : 0\n",
      "tests_over_1_m : 0\n",
      "life_expectancy_index_2019 : 23\n",
      "happiness_index_2019 : 62\n",
      "corruption_perception_index_2019 : 42\n",
      "democracy_index_2019 : 49\n",
      "economic_freedom_index_2019 : 44\n",
      "press_freedom_index_2019 : 42\n"
     ]
    }
   ],
   "source": [
    "for i, j in zip(merged_f.isnull().sum().index, merged_f.isnull().sum()):\n",
    "    print(i, ':', j)"
   ]
  },
  {
   "cell_type": "markdown",
   "metadata": {},
   "source": [
    "## Drop all points with all NaN features"
   ]
  },
  {
   "cell_type": "code",
   "execution_count": 158,
   "metadata": {},
   "outputs": [
    {
     "data": {
      "text/plain": [
       "Index(['country', 'region', 'continent', 'bri_country',\n",
       "       'bri_member_income_group', 'total_cases', 'total_deaths',\n",
       "       'total_recovered', 'total_tests', 'active_cases', 'serious_critical',\n",
       "       'cases_over_1_m', 'deaths_over_1_m', 'tests_over_1_m',\n",
       "       'life_expectancy_index_2019', 'happiness_index_2019',\n",
       "       'corruption_perception_index_2019', 'democracy_index_2019',\n",
       "       'economic_freedom_index_2019', 'press_freedom_index_2019'],\n",
       "      dtype='object')"
      ]
     },
     "execution_count": 158,
     "metadata": {},
     "output_type": "execute_result"
    }
   ],
   "source": [
    "merged_f.columns"
   ]
  },
  {
   "cell_type": "markdown",
   "metadata": {},
   "source": [
    "### Freedom_indexes frame"
   ]
  },
  {
   "cell_type": "code",
   "execution_count": 152,
   "metadata": {},
   "outputs": [],
   "source": [
    "indexes_f = merged_f[['life_expectancy_index_2019', 'happiness_index_2019', 'corruption_perception_index_2019', 'democracy_index_2019', 'economic_freedom_index_2019', 'press_freedom_index_2019']]"
   ]
  },
  {
   "cell_type": "code",
   "execution_count": 156,
   "metadata": {},
   "outputs": [
    {
     "name": "stderr",
     "output_type": "stream",
     "text": [
      "C:\\Users\\DucTRung\\Anaconda3\\envs\\cc_env\\lib\\site-packages\\ipykernel_launcher.py:1: SettingWithCopyWarning: \n",
      "A value is trying to be set on a copy of a slice from a DataFrame\n",
      "\n",
      "See the caveats in the documentation: https://pandas.pydata.org/pandas-docs/stable/user_guide/indexing.html#returning-a-view-versus-a-copy\n",
      "  \"\"\"Entry point for launching an IPython kernel.\n"
     ]
    }
   ],
   "source": [
    "indexes_f.dropna(how='all', inplace=True)"
   ]
  },
  {
   "cell_type": "markdown",
   "metadata": {},
   "source": [
    "### Epidemic status"
   ]
  },
  {
   "cell_type": "code",
   "execution_count": 168,
   "metadata": {},
   "outputs": [],
   "source": [
    "epidemic_f = merged_f[['country', 'region', 'continent', 'bri_country',\n",
    "       'bri_member_income_group', 'total_cases', 'total_deaths',\n",
    "       'total_recovered', 'total_tests', 'active_cases', 'serious_critical',\n",
    "       'cases_over_1_m', 'deaths_over_1_m', 'tests_over_1_m',]]"
   ]
  },
  {
   "cell_type": "code",
   "execution_count": 169,
   "metadata": {},
   "outputs": [
    {
     "data": {
      "text/plain": [
       "country                     0\n",
       "region                      0\n",
       "continent                   0\n",
       "bri_country                 0\n",
       "bri_member_income_group    85\n",
       "total_cases                 0\n",
       "total_deaths                0\n",
       "total_recovered             0\n",
       "total_tests                 0\n",
       "active_cases                0\n",
       "serious_critical            0\n",
       "cases_over_1_m              0\n",
       "deaths_over_1_m             0\n",
       "tests_over_1_m              0\n",
       "dtype: int64"
      ]
     },
     "execution_count": 169,
     "metadata": {},
     "output_type": "execute_result"
    }
   ],
   "source": [
    "epidemic_f.isnull().sum()"
   ]
  },
  {
   "cell_type": "markdown",
   "metadata": {},
   "source": [
    "### Merge 'indexes_f' and 'epidemic_f'"
   ]
  },
  {
   "cell_type": "code",
   "execution_count": 170,
   "metadata": {},
   "outputs": [],
   "source": [
    "wrangled_f = pd.merge(epidemic_f, indexes_f, left_index=True, right_index=True)"
   ]
  },
  {
   "cell_type": "code",
   "execution_count": 171,
   "metadata": {},
   "outputs": [
    {
     "name": "stdout",
     "output_type": "stream",
     "text": [
      "<class 'pandas.core.frame.DataFrame'>\n",
      "Int64Index: 190 entries, 0 to 209\n",
      "Data columns (total 20 columns):\n",
      " #   Column                            Non-Null Count  Dtype  \n",
      "---  ------                            --------------  -----  \n",
      " 0   country                           190 non-null    object \n",
      " 1   region                            190 non-null    object \n",
      " 2   continent                         190 non-null    object \n",
      " 3   bri_country                       190 non-null    object \n",
      " 4   bri_member_income_group           125 non-null    object \n",
      " 5   total_cases                       190 non-null    float64\n",
      " 6   total_deaths                      190 non-null    float64\n",
      " 7   total_recovered                   190 non-null    float64\n",
      " 8   total_tests                       190 non-null    object \n",
      " 9   active_cases                      190 non-null    float64\n",
      " 10  serious_critical                  190 non-null    float64\n",
      " 11  cases_over_1_m                    190 non-null    float64\n",
      " 12  deaths_over_1_m                   190 non-null    float64\n",
      " 13  tests_over_1_m                    190 non-null    object \n",
      " 14  life_expectancy_index_2019        187 non-null    float64\n",
      " 15  happiness_index_2019              148 non-null    float64\n",
      " 16  corruption_perception_index_2019  168 non-null    float64\n",
      " 17  democracy_index_2019              161 non-null    float64\n",
      " 18  economic_freedom_index_2019       166 non-null    float64\n",
      " 19  press_freedom_index_2019          168 non-null    float64\n",
      "dtypes: float64(13), object(7)\n",
      "memory usage: 31.2+ KB\n"
     ]
    }
   ],
   "source": [
    "wrangled_f.info()"
   ]
  },
  {
   "cell_type": "markdown",
   "metadata": {},
   "source": [
    "# Save wrangled data set"
   ]
  },
  {
   "cell_type": "code",
   "execution_count": 172,
   "metadata": {},
   "outputs": [],
   "source": [
    "wrangled_f.to_csv('wrangled_frame\\\\wrangled_f_3.csv', index=False)"
   ]
  },
  {
   "cell_type": "code",
   "execution_count": 52,
   "metadata": {},
   "outputs": [],
   "source": [
    "# country_f = merged_f.set_index(['country'])"
   ]
  },
  {
   "cell_type": "code",
   "execution_count": 53,
   "metadata": {},
   "outputs": [],
   "source": [
    "# region_f = merged_f.set_index(['region'])"
   ]
  },
  {
   "cell_type": "code",
   "execution_count": 54,
   "metadata": {},
   "outputs": [],
   "source": [
    "# continent_f = merged_f.set_index(['continent'])"
   ]
  },
  {
   "cell_type": "code",
   "execution_count": 55,
   "metadata": {},
   "outputs": [],
   "source": [
    "# country_f.to_csv(data_path + '\\\\wrangled_frame\\\\country_f.csv', index=True)"
   ]
  },
  {
   "cell_type": "code",
   "execution_count": 56,
   "metadata": {},
   "outputs": [],
   "source": [
    "# region_f.to_csv(data_path + '\\\\wrangled_frame\\\\region_f.csv', index=True)"
   ]
  },
  {
   "cell_type": "code",
   "execution_count": 57,
   "metadata": {},
   "outputs": [],
   "source": [
    "# continent_f.to_csv(data_path + '\\\\wrangled_frame\\\\continent_f.csv', index=True)"
   ]
  }
 ],
 "metadata": {
  "kernelspec": {
   "display_name": "Python 3",
   "language": "python",
   "name": "python3"
  },
  "language_info": {
   "codemirror_mode": {
    "name": "ipython",
    "version": 3
   },
   "file_extension": ".py",
   "mimetype": "text/x-python",
   "name": "python",
   "nbconvert_exporter": "python",
   "pygments_lexer": "ipython3",
   "version": "3.7.6"
  },
  "toc": {
   "base_numbering": 1,
   "nav_menu": {},
   "number_sections": true,
   "sideBar": true,
   "skip_h1_title": false,
   "title_cell": "Table of Contents",
   "title_sidebar": "Contents",
   "toc_cell": false,
   "toc_position": {},
   "toc_section_display": true,
   "toc_window_display": false
  }
 },
 "nbformat": 4,
 "nbformat_minor": 4
}
