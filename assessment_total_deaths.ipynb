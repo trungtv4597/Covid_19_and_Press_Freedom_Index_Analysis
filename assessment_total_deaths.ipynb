{
 "cells": [
  {
   "cell_type": "code",
   "execution_count": 1,
   "metadata": {},
   "outputs": [],
   "source": [
    "import numpy as np\n",
    "import pandas as pd\n",
    "import matplotlib.pyplot as plt\n",
    "import seaborn as sns\n",
    "sns.set()"
   ]
  },
  {
   "cell_type": "code",
   "execution_count": 2,
   "metadata": {},
   "outputs": [],
   "source": [
    "pd.set_option('display.max_columns', 0)\n",
    "pd.set_option('display.max_rows', 0)"
   ]
  },
  {
   "cell_type": "code",
   "execution_count": 3,
   "metadata": {},
   "outputs": [],
   "source": [
    "data_path = r'C:\\Users\\DucTRung\\Desktop\\country_by_freedom_indexes_in_covid19\\wrangled_frame'"
   ]
  },
  {
   "cell_type": "code",
   "execution_count": 4,
   "metadata": {},
   "outputs": [],
   "source": [
    "df = pd.read_csv(data_path + \"\\\\wrangled_f_3.csv\")"
   ]
  },
  {
   "cell_type": "code",
   "execution_count": 5,
   "metadata": {
    "scrolled": true
   },
   "outputs": [
    {
     "data": {
      "text/html": [
       "<div>\n",
       "<style scoped>\n",
       "    .dataframe tbody tr th:only-of-type {\n",
       "        vertical-align: middle;\n",
       "    }\n",
       "\n",
       "    .dataframe tbody tr th {\n",
       "        vertical-align: top;\n",
       "    }\n",
       "\n",
       "    .dataframe thead th {\n",
       "        text-align: right;\n",
       "    }\n",
       "</style>\n",
       "<table border=\"1\" class=\"dataframe\">\n",
       "  <thead>\n",
       "    <tr style=\"text-align: right;\">\n",
       "      <th></th>\n",
       "      <th>country</th>\n",
       "      <th>region</th>\n",
       "      <th>continent</th>\n",
       "      <th>bri_country</th>\n",
       "      <th>bri_member_income_group</th>\n",
       "      <th>total_cases</th>\n",
       "      <th>total_deaths</th>\n",
       "      <th>total_recovered</th>\n",
       "      <th>total_tests</th>\n",
       "      <th>active_cases</th>\n",
       "      <th>serious_critical</th>\n",
       "      <th>cases_over_1_m</th>\n",
       "      <th>deaths_over_1_m</th>\n",
       "      <th>tests_over_1_m</th>\n",
       "      <th>life_expectancy_index_2019</th>\n",
       "      <th>happiness_index_2019</th>\n",
       "      <th>corruption_perception_index_2019</th>\n",
       "      <th>democracy_index_2019</th>\n",
       "      <th>economic_freedom_index_2019</th>\n",
       "      <th>press_freedom_index_2019</th>\n",
       "    </tr>\n",
       "  </thead>\n",
       "  <tbody>\n",
       "    <tr>\n",
       "      <th>0</th>\n",
       "      <td>USA</td>\n",
       "      <td>Northern America</td>\n",
       "      <td>Northern America</td>\n",
       "      <td>non_member</td>\n",
       "      <td>NaN</td>\n",
       "      <td>588465.0</td>\n",
       "      <td>23711.0</td>\n",
       "      <td>37326.0</td>\n",
       "      <td>2961818.0</td>\n",
       "      <td>527428.0</td>\n",
       "      <td>12772.0</td>\n",
       "      <td>1778.0</td>\n",
       "      <td>72.0</td>\n",
       "      <td>8948.0</td>\n",
       "      <td>79.11</td>\n",
       "      <td>68.92</td>\n",
       "      <td>69.0</td>\n",
       "      <td>79.6</td>\n",
       "      <td>76.8</td>\n",
       "      <td>74.31</td>\n",
       "    </tr>\n",
       "    <tr>\n",
       "      <th>1</th>\n",
       "      <td>Spain</td>\n",
       "      <td>Southern Europe</td>\n",
       "      <td>Europe</td>\n",
       "      <td>non_member</td>\n",
       "      <td>NaN</td>\n",
       "      <td>172541.0</td>\n",
       "      <td>18056.0</td>\n",
       "      <td>67504.0</td>\n",
       "      <td>600000.0</td>\n",
       "      <td>86981.0</td>\n",
       "      <td>7371.0</td>\n",
       "      <td>3690.0</td>\n",
       "      <td>386.0</td>\n",
       "      <td>12833.0</td>\n",
       "      <td>83.99</td>\n",
       "      <td>63.54</td>\n",
       "      <td>62.0</td>\n",
       "      <td>82.9</td>\n",
       "      <td>65.7</td>\n",
       "      <td>78.01</td>\n",
       "    </tr>\n",
       "    <tr>\n",
       "      <th>2</th>\n",
       "      <td>Italy</td>\n",
       "      <td>Southern Europe</td>\n",
       "      <td>Europe</td>\n",
       "      <td>bri_member</td>\n",
       "      <td>High income</td>\n",
       "      <td>159516.0</td>\n",
       "      <td>20465.0</td>\n",
       "      <td>35435.0</td>\n",
       "      <td>1046910.0</td>\n",
       "      <td>103616.0</td>\n",
       "      <td>3260.0</td>\n",
       "      <td>2638.0</td>\n",
       "      <td>338.0</td>\n",
       "      <td>17315.0</td>\n",
       "      <td>84.01</td>\n",
       "      <td>62.23</td>\n",
       "      <td>53.0</td>\n",
       "      <td>75.2</td>\n",
       "      <td>62.2</td>\n",
       "      <td>75.02</td>\n",
       "    </tr>\n",
       "    <tr>\n",
       "      <th>3</th>\n",
       "      <td>France</td>\n",
       "      <td>Western Europe</td>\n",
       "      <td>Europe</td>\n",
       "      <td>non_member</td>\n",
       "      <td>NaN</td>\n",
       "      <td>136779.0</td>\n",
       "      <td>14967.0</td>\n",
       "      <td>27718.0</td>\n",
       "      <td>333807.0</td>\n",
       "      <td>94094.0</td>\n",
       "      <td>6821.0</td>\n",
       "      <td>2095.0</td>\n",
       "      <td>229.0</td>\n",
       "      <td>5114.0</td>\n",
       "      <td>83.13</td>\n",
       "      <td>65.92</td>\n",
       "      <td>69.0</td>\n",
       "      <td>81.2</td>\n",
       "      <td>63.8</td>\n",
       "      <td>77.79</td>\n",
       "    </tr>\n",
       "    <tr>\n",
       "      <th>4</th>\n",
       "      <td>Germany</td>\n",
       "      <td>Western Europe</td>\n",
       "      <td>Europe</td>\n",
       "      <td>non_member</td>\n",
       "      <td>NaN</td>\n",
       "      <td>130434.0</td>\n",
       "      <td>3220.0</td>\n",
       "      <td>68200.0</td>\n",
       "      <td>1317887.0</td>\n",
       "      <td>59014.0</td>\n",
       "      <td>4288.0</td>\n",
       "      <td>1557.0</td>\n",
       "      <td>38.0</td>\n",
       "      <td>15730.0</td>\n",
       "      <td>81.88</td>\n",
       "      <td>69.85</td>\n",
       "      <td>80.0</td>\n",
       "      <td>86.8</td>\n",
       "      <td>73.5</td>\n",
       "      <td>85.40</td>\n",
       "    </tr>\n",
       "  </tbody>\n",
       "</table>\n",
       "</div>"
      ],
      "text/plain": [
       "   country            region  ... economic_freedom_index_2019 press_freedom_index_2019\n",
       "0      USA  Northern America  ...                        76.8                    74.31\n",
       "1    Spain   Southern Europe  ...                        65.7                    78.01\n",
       "2    Italy   Southern Europe  ...                        62.2                    75.02\n",
       "3   France    Western Europe  ...                        63.8                    77.79\n",
       "4  Germany    Western Europe  ...                        73.5                    85.40\n",
       "\n",
       "[5 rows x 20 columns]"
      ]
     },
     "execution_count": 5,
     "metadata": {},
     "output_type": "execute_result"
    }
   ],
   "source": [
    "df.head()"
   ]
  },
  {
   "cell_type": "markdown",
   "metadata": {},
   "source": [
    "# by Country"
   ]
  },
  {
   "cell_type": "code",
   "execution_count": 37,
   "metadata": {},
   "outputs": [],
   "source": [
    "death_country_f = df[['country', 'total_deaths']].sort_values(by='total_deaths', ascending=False).set_index('country')"
   ]
  },
  {
   "cell_type": "markdown",
   "metadata": {},
   "source": [
    "## Top 10 countries"
   ]
  },
  {
   "cell_type": "code",
   "execution_count": 24,
   "metadata": {},
   "outputs": [
    {
     "data": {
      "text/plain": [
       "<matplotlib.axes._subplots.AxesSubplot at 0x187bc8e5748>"
      ]
     },
     "execution_count": 24,
     "metadata": {},
     "output_type": "execute_result"
    },
    {
     "data": {
      "image/png": "[encoded data removed]",
      "text/plain": [
       "<Figure size 432x288 with 1 Axes>"
      ]
     },
     "metadata": {},
     "output_type": "display_data"
    }
   ],
   "source": [
    "death_country_f[:10].plot(kind='barh')"
   ]
  },
  {
   "cell_type": "markdown",
   "metadata": {},
   "source": [
    "## List of 0 death countries"
   ]
  },
  {
   "cell_type": "code",
   "execution_count": 25,
   "metadata": {},
   "outputs": [
    {
     "data": {
      "text/plain": [
       "Index(['Mongolia', 'Vietnam', 'Saint Vincent Grenadines',\n",
       "       'Central African Republic', 'Seychelles', 'Sierra Leone', 'Cambodia',\n",
       "       'Rwanda', 'Guinea', 'Grenada', 'Timor-Leste', 'Western Sahara',\n",
       "       'Réunion', 'Bhutan', 'Sao Tome and Principe', 'South Sudan',\n",
       "       'Papua New Guinea', 'Madagascar', 'Eswatini', 'Aruba', 'Laos',\n",
       "       'Guinea-Bissau', 'Macao', 'Chad', 'Equatorial Guinea', 'Mozambique',\n",
       "       'Maldives', 'Uganda', 'French Polynesia', 'Eritrea', 'New Caledonia',\n",
       "       'French Guiana', 'Nepal', 'Dominica', 'Fiji', 'Namibia', 'Saint Lucia',\n",
       "       'Yemen'],\n",
       "      dtype='object', name='country')"
      ]
     },
     "execution_count": 25,
     "metadata": {},
     "output_type": "execute_result"
    }
   ],
   "source": [
    "death_country_f[stored_deaths_f['total_deaths'] == 0].index # 38 countries"
   ]
  },
  {
   "cell_type": "markdown",
   "metadata": {},
   "source": [
    "## 80% death of the world"
   ]
  },
  {
   "cell_type": "code",
   "execution_count": 38,
   "metadata": {},
   "outputs": [],
   "source": [
    "death_country_f['relative_fre'] = death_country_f['total_deaths'] / death_country_f['total_deaths'].sum() * 100"
   ]
  },
  {
   "cell_type": "code",
   "execution_count": 41,
   "metadata": {},
   "outputs": [],
   "source": [
    "death_country_f['cum_fre'] = death_country_f['relative_fre'].cumsum()"
   ]
  },
  {
   "cell_type": "code",
   "execution_count": 58,
   "metadata": {},
   "outputs": [
    {
     "data": {
      "text/html": [
       "<div>\n",
       "<style scoped>\n",
       "    .dataframe tbody tr th:only-of-type {\n",
       "        vertical-align: middle;\n",
       "    }\n",
       "\n",
       "    .dataframe tbody tr th {\n",
       "        vertical-align: top;\n",
       "    }\n",
       "\n",
       "    .dataframe thead th {\n",
       "        text-align: right;\n",
       "    }\n",
       "</style>\n",
       "<table border=\"1\" class=\"dataframe\">\n",
       "  <thead>\n",
       "    <tr style=\"text-align: right;\">\n",
       "      <th></th>\n",
       "      <th>total_deaths</th>\n",
       "      <th>relative_fre</th>\n",
       "      <th>cum_fre</th>\n",
       "    </tr>\n",
       "    <tr>\n",
       "      <th>country</th>\n",
       "      <th></th>\n",
       "      <th></th>\n",
       "      <th></th>\n",
       "    </tr>\n",
       "  </thead>\n",
       "  <tbody>\n",
       "    <tr>\n",
       "      <th>USA</th>\n",
       "      <td>23711.0</td>\n",
       "      <td>19.479634</td>\n",
       "      <td>19.479634</td>\n",
       "    </tr>\n",
       "    <tr>\n",
       "      <th>Italy</th>\n",
       "      <td>20465.0</td>\n",
       "      <td>16.812902</td>\n",
       "      <td>36.292535</td>\n",
       "    </tr>\n",
       "    <tr>\n",
       "      <th>Spain</th>\n",
       "      <td>18056.0</td>\n",
       "      <td>14.833802</td>\n",
       "      <td>51.126337</td>\n",
       "    </tr>\n",
       "    <tr>\n",
       "      <th>France</th>\n",
       "      <td>14967.0</td>\n",
       "      <td>12.296052</td>\n",
       "      <td>63.422389</td>\n",
       "    </tr>\n",
       "    <tr>\n",
       "      <th>UK</th>\n",
       "      <td>12107.0</td>\n",
       "      <td>9.946435</td>\n",
       "      <td>73.368824</td>\n",
       "    </tr>\n",
       "    <tr>\n",
       "      <th>Iran</th>\n",
       "      <td>4683.0</td>\n",
       "      <td>3.847291</td>\n",
       "      <td>77.216115</td>\n",
       "    </tr>\n",
       "    <tr>\n",
       "      <th>Belgium</th>\n",
       "      <td>4157.0</td>\n",
       "      <td>3.415159</td>\n",
       "      <td>80.631275</td>\n",
       "    </tr>\n",
       "    <tr>\n",
       "      <th>China</th>\n",
       "      <td>3341.0</td>\n",
       "      <td>2.744779</td>\n",
       "      <td>83.376054</td>\n",
       "    </tr>\n",
       "    <tr>\n",
       "      <th>Germany</th>\n",
       "      <td>3220.0</td>\n",
       "      <td>2.645372</td>\n",
       "      <td>86.021426</td>\n",
       "    </tr>\n",
       "    <tr>\n",
       "      <th>Netherlands</th>\n",
       "      <td>2945.0</td>\n",
       "      <td>2.419448</td>\n",
       "      <td>88.440873</td>\n",
       "    </tr>\n",
       "    <tr>\n",
       "      <th>Brazil</th>\n",
       "      <td>1361.0</td>\n",
       "      <td>1.118122</td>\n",
       "      <td>89.558995</td>\n",
       "    </tr>\n",
       "    <tr>\n",
       "      <th>Turkey</th>\n",
       "      <td>1296.0</td>\n",
       "      <td>1.064721</td>\n",
       "      <td>90.623716</td>\n",
       "    </tr>\n",
       "    <tr>\n",
       "      <th>...</th>\n",
       "      <td>...</td>\n",
       "      <td>...</td>\n",
       "      <td>...</td>\n",
       "    </tr>\n",
       "    <tr>\n",
       "      <th>Maldives</th>\n",
       "      <td>0.0</td>\n",
       "      <td>0.000000</td>\n",
       "      <td>100.000000</td>\n",
       "    </tr>\n",
       "    <tr>\n",
       "      <th>Uganda</th>\n",
       "      <td>0.0</td>\n",
       "      <td>0.000000</td>\n",
       "      <td>100.000000</td>\n",
       "    </tr>\n",
       "    <tr>\n",
       "      <th>French Polynesia</th>\n",
       "      <td>0.0</td>\n",
       "      <td>0.000000</td>\n",
       "      <td>100.000000</td>\n",
       "    </tr>\n",
       "    <tr>\n",
       "      <th>Eritrea</th>\n",
       "      <td>0.0</td>\n",
       "      <td>0.000000</td>\n",
       "      <td>100.000000</td>\n",
       "    </tr>\n",
       "    <tr>\n",
       "      <th>New Caledonia</th>\n",
       "      <td>0.0</td>\n",
       "      <td>0.000000</td>\n",
       "      <td>100.000000</td>\n",
       "    </tr>\n",
       "    <tr>\n",
       "      <th>French Guiana</th>\n",
       "      <td>0.0</td>\n",
       "      <td>0.000000</td>\n",
       "      <td>100.000000</td>\n",
       "    </tr>\n",
       "    <tr>\n",
       "      <th>Nepal</th>\n",
       "      <td>0.0</td>\n",
       "      <td>0.000000</td>\n",
       "      <td>100.000000</td>\n",
       "    </tr>\n",
       "    <tr>\n",
       "      <th>Dominica</th>\n",
       "      <td>0.0</td>\n",
       "      <td>0.000000</td>\n",
       "      <td>100.000000</td>\n",
       "    </tr>\n",
       "    <tr>\n",
       "      <th>Fiji</th>\n",
       "      <td>0.0</td>\n",
       "      <td>0.000000</td>\n",
       "      <td>100.000000</td>\n",
       "    </tr>\n",
       "    <tr>\n",
       "      <th>Namibia</th>\n",
       "      <td>0.0</td>\n",
       "      <td>0.000000</td>\n",
       "      <td>100.000000</td>\n",
       "    </tr>\n",
       "    <tr>\n",
       "      <th>Saint Lucia</th>\n",
       "      <td>0.0</td>\n",
       "      <td>0.000000</td>\n",
       "      <td>100.000000</td>\n",
       "    </tr>\n",
       "    <tr>\n",
       "      <th>Yemen</th>\n",
       "      <td>0.0</td>\n",
       "      <td>0.000000</td>\n",
       "      <td>100.000000</td>\n",
       "    </tr>\n",
       "  </tbody>\n",
       "</table>\n",
       "<p>190 rows × 3 columns</p>\n",
       "</div>"
      ],
      "text/plain": [
       "                  total_deaths  relative_fre     cum_fre\n",
       "country                                                 \n",
       "USA                    23711.0     19.479634   19.479634\n",
       "Italy                  20465.0     16.812902   36.292535\n",
       "Spain                  18056.0     14.833802   51.126337\n",
       "France                 14967.0     12.296052   63.422389\n",
       "UK                     12107.0      9.946435   73.368824\n",
       "Iran                    4683.0      3.847291   77.216115\n",
       "Belgium                 4157.0      3.415159   80.631275\n",
       "China                   3341.0      2.744779   83.376054\n",
       "Germany                 3220.0      2.645372   86.021426\n",
       "Netherlands             2945.0      2.419448   88.440873\n",
       "Brazil                  1361.0      1.118122   89.558995\n",
       "Turkey                  1296.0      1.064721   90.623716\n",
       "...                        ...           ...         ...\n",
       "Maldives                   0.0      0.000000  100.000000\n",
       "Uganda                     0.0      0.000000  100.000000\n",
       "French Polynesia           0.0      0.000000  100.000000\n",
       "Eritrea                    0.0      0.000000  100.000000\n",
       "New Caledonia              0.0      0.000000  100.000000\n",
       "French Guiana              0.0      0.000000  100.000000\n",
       "Nepal                      0.0      0.000000  100.000000\n",
       "Dominica                   0.0      0.000000  100.000000\n",
       "Fiji                       0.0      0.000000  100.000000\n",
       "Namibia                    0.0      0.000000  100.000000\n",
       "Saint Lucia                0.0      0.000000  100.000000\n",
       "Yemen                      0.0      0.000000  100.000000\n",
       "\n",
       "[190 rows x 3 columns]"
      ]
     },
     "execution_count": 58,
     "metadata": {},
     "output_type": "execute_result"
    }
   ],
   "source": [
    "death_country_f"
   ]
  },
  {
   "cell_type": "code",
   "execution_count": 57,
   "metadata": {},
   "outputs": [
    {
     "data": {
      "image/png": "[encoded data removed]",
      "text/plain": [
       "<Figure size 432x288 with 2 Axes>"
      ]
     },
     "metadata": {},
     "output_type": "display_data"
    }
   ],
   "source": [
    "fig, ax1 = plt.subplots()\n",
    "\n",
    "ax1.bar(data=death_country_f[:7], x=death_country_f[:7].index, height='total_deaths')\n",
    "\n",
    "ax2 = ax1.twinx()\n",
    "ax2.plot(death_country_f[:7].index, death_country_f[:7]['cum_fre'], color='g', marker='D')\n",
    "for i, j in enumerate(death_country_f[:7]['cum_fre']):\n",
    "    ax2.text(i+.3, j-1, s=str(round(j, 2))+'%')"
   ]
  },
  {
   "cell_type": "markdown",
   "metadata": {},
   "source": [
    "# by Region"
   ]
  },
  {
   "cell_type": "code",
   "execution_count": 74,
   "metadata": {},
   "outputs": [],
   "source": [
    "def stats(group):\n",
    "    return {'count': group.count(),\n",
    "            'sum': group.sum(),\n",
    "            'mean': group.mean(),\n",
    "            'median': group.median(),\n",
    "            'max': group.max(),\n",
    "            'min': group.min(),\n",
    "            'std': group.std()}"
   ]
  },
  {
   "cell_type": "code",
   "execution_count": 75,
   "metadata": {},
   "outputs": [],
   "source": [
    "death_region_f = df['total_deaths'].groupby(df['region']).apply(stats).unstack()"
   ]
  },
  {
   "cell_type": "code",
   "execution_count": 79,
   "metadata": {},
   "outputs": [],
   "source": [
    "death_region_f['CoV'] = round(death_region_f['std'] / death_region_f['mean'], 2)"
   ]
  },
  {
   "cell_type": "markdown",
   "metadata": {},
   "source": [
    "## Top"
   ]
  },
  {
   "cell_type": "code",
   "execution_count": 135,
   "metadata": {},
   "outputs": [
    {
     "data": {
      "text/plain": [
       "<matplotlib.axes._subplots.AxesSubplot at 0x187bee61308>"
      ]
     },
     "execution_count": 135,
     "metadata": {},
     "output_type": "execute_result"
    },
    {
     "data": {
      "image/png": "[encoded data removed]",
      "text/plain": [
       "<Figure size 432x288 with 1 Axes>"
      ]
     },
     "metadata": {},
     "output_type": "display_data"
    }
   ],
   "source": [
    "death_region_f.sort_values(by='mean')['mean'].plot(kind='barh')"
   ]
  },
  {
   "cell_type": "code",
   "execution_count": 85,
   "metadata": {},
   "outputs": [
    {
     "data": {
      "text/plain": [
       "<matplotlib.axes._subplots.AxesSubplot at 0x187bc614188>"
      ]
     },
     "execution_count": 85,
     "metadata": {},
     "output_type": "execute_result"
    },
    {
     "data": {
      "image/png": "[encoded data removed]",
      "text/plain": [
       "<Figure size 432x288 with 1 Axes>"
      ]
     },
     "metadata": {},
     "output_type": "display_data"
    }
   ],
   "source": [
    "death_region_f.sort_values(by='sum')['sum'].plot(kind='barh')"
   ]
  },
  {
   "cell_type": "markdown",
   "metadata": {},
   "source": [
    "## Nothern America - Northern/ Western/ Souther Europe"
   ]
  },
  {
   "cell_type": "code",
   "execution_count": 117,
   "metadata": {},
   "outputs": [],
   "source": [
    "death_region_stats_t = death_region_f.loc[['Northern America', 'Northern Europe', 'Western Europe', 'Southern Europe'], ['sum', 'mean', 'median', 'count', 'CoV']]"
   ]
  },
  {
   "cell_type": "code",
   "execution_count": 118,
   "metadata": {},
   "outputs": [
    {
     "data": {
      "text/html": [
       "<div>\n",
       "<style scoped>\n",
       "    .dataframe tbody tr th:only-of-type {\n",
       "        vertical-align: middle;\n",
       "    }\n",
       "\n",
       "    .dataframe tbody tr th {\n",
       "        vertical-align: top;\n",
       "    }\n",
       "\n",
       "    .dataframe thead th {\n",
       "        text-align: right;\n",
       "    }\n",
       "</style>\n",
       "<table border=\"1\" class=\"dataframe\">\n",
       "  <thead>\n",
       "    <tr style=\"text-align: right;\">\n",
       "      <th></th>\n",
       "      <th>sum</th>\n",
       "      <th>mean</th>\n",
       "      <th>median</th>\n",
       "      <th>count</th>\n",
       "      <th>CoV</th>\n",
       "    </tr>\n",
       "    <tr>\n",
       "      <th>region</th>\n",
       "      <th></th>\n",
       "      <th></th>\n",
       "      <th></th>\n",
       "      <th></th>\n",
       "      <th></th>\n",
       "    </tr>\n",
       "  </thead>\n",
       "  <tbody>\n",
       "    <tr>\n",
       "      <th>Northern America</th>\n",
       "      <td>24491.0</td>\n",
       "      <td>12245.500000</td>\n",
       "      <td>12245.5</td>\n",
       "      <td>2.0</td>\n",
       "      <td>1.32</td>\n",
       "    </tr>\n",
       "    <tr>\n",
       "      <th>Northern Europe</th>\n",
       "      <td>14086.0</td>\n",
       "      <td>1280.545455</td>\n",
       "      <td>64.0</td>\n",
       "      <td>11.0</td>\n",
       "      <td>2.81</td>\n",
       "    </tr>\n",
       "    <tr>\n",
       "      <th>Western Europe</th>\n",
       "      <td>26905.0</td>\n",
       "      <td>3363.125000</td>\n",
       "      <td>2053.5</td>\n",
       "      <td>8.0</td>\n",
       "      <td>1.47</td>\n",
       "    </tr>\n",
       "    <tr>\n",
       "      <th>Southern Europe</th>\n",
       "      <td>39512.0</td>\n",
       "      <td>3039.384615</td>\n",
       "      <td>44.0</td>\n",
       "      <td>13.0</td>\n",
       "      <td>2.37</td>\n",
       "    </tr>\n",
       "  </tbody>\n",
       "</table>\n",
       "</div>"
      ],
      "text/plain": [
       "                      sum          mean   median  count   CoV\n",
       "region                                                       \n",
       "Northern America  24491.0  12245.500000  12245.5    2.0  1.32\n",
       "Northern Europe   14086.0   1280.545455     64.0   11.0  2.81\n",
       "Western Europe    26905.0   3363.125000   2053.5    8.0  1.47\n",
       "Southern Europe   39512.0   3039.384615     44.0   13.0  2.37"
      ]
     },
     "execution_count": 118,
     "metadata": {},
     "output_type": "execute_result"
    }
   ],
   "source": [
    "death_region_stats_t"
   ]
  },
  {
   "cell_type": "code",
   "execution_count": 112,
   "metadata": {},
   "outputs": [
    {
     "data": {
      "text/plain": [
       "<matplotlib.axes._subplots.AxesSubplot at 0x187be6b0648>"
      ]
     },
     "execution_count": 112,
     "metadata": {},
     "output_type": "execute_result"
    },
    {
     "data": {
      "image/png": "[encoded data removed]",
      "text/plain": [
       "<Figure size 432x288 with 1 Axes>"
      ]
     },
     "metadata": {},
     "output_type": "display_data"
    }
   ],
   "source": [
    "death_region_stats_t.plot(kind='barh')"
   ]
  },
  {
   "cell_type": "markdown",
   "metadata": {},
   "source": [
    "# by Continent"
   ]
  },
  {
   "cell_type": "code",
   "execution_count": 122,
   "metadata": {},
   "outputs": [],
   "source": [
    "death_continent_stats_t = df['total_deaths'].groupby(df['continent']).apply(stats).unstack()"
   ]
  },
  {
   "cell_type": "code",
   "execution_count": 125,
   "metadata": {},
   "outputs": [],
   "source": [
    "death_continent_stats_t['CoV'] = round(death_continent_stats_t['std'] / death_continent_stats_t['mean'], 2)"
   ]
  },
  {
   "cell_type": "code",
   "execution_count": 129,
   "metadata": {},
   "outputs": [
    {
     "data": {
      "text/html": [
       "<div>\n",
       "<style scoped>\n",
       "    .dataframe tbody tr th:only-of-type {\n",
       "        vertical-align: middle;\n",
       "    }\n",
       "\n",
       "    .dataframe tbody tr th {\n",
       "        vertical-align: top;\n",
       "    }\n",
       "\n",
       "    .dataframe thead th {\n",
       "        text-align: right;\n",
       "    }\n",
       "</style>\n",
       "<table border=\"1\" class=\"dataframe\">\n",
       "  <thead>\n",
       "    <tr style=\"text-align: right;\">\n",
       "      <th></th>\n",
       "      <th>count</th>\n",
       "      <th>sum</th>\n",
       "      <th>mean</th>\n",
       "      <th>median</th>\n",
       "      <th>max</th>\n",
       "      <th>min</th>\n",
       "      <th>std</th>\n",
       "      <th>CoV</th>\n",
       "    </tr>\n",
       "    <tr>\n",
       "      <th>continent</th>\n",
       "      <th></th>\n",
       "      <th></th>\n",
       "      <th></th>\n",
       "      <th></th>\n",
       "      <th></th>\n",
       "      <th></th>\n",
       "      <th></th>\n",
       "      <th></th>\n",
       "    </tr>\n",
       "  </thead>\n",
       "  <tbody>\n",
       "    <tr>\n",
       "      <th>Africa</th>\n",
       "      <td>55.0</td>\n",
       "      <td>840.0</td>\n",
       "      <td>15.272727</td>\n",
       "      <td>2.0</td>\n",
       "      <td>313.0</td>\n",
       "      <td>0.0</td>\n",
       "      <td>49.423886</td>\n",
       "      <td>3.24</td>\n",
       "    </tr>\n",
       "    <tr>\n",
       "      <th>Asia</th>\n",
       "      <td>48.0</td>\n",
       "      <td>11570.0</td>\n",
       "      <td>241.041667</td>\n",
       "      <td>7.0</td>\n",
       "      <td>4683.0</td>\n",
       "      <td>0.0</td>\n",
       "      <td>832.223169</td>\n",
       "      <td>3.45</td>\n",
       "    </tr>\n",
       "    <tr>\n",
       "      <th>Europe</th>\n",
       "      <td>42.0</td>\n",
       "      <td>81748.0</td>\n",
       "      <td>1946.380952</td>\n",
       "      <td>96.0</td>\n",
       "      <td>20465.0</td>\n",
       "      <td>1.0</td>\n",
       "      <td>4928.925668</td>\n",
       "      <td>2.53</td>\n",
       "    </tr>\n",
       "    <tr>\n",
       "      <th>Latin America and Caribbean</th>\n",
       "      <td>37.0</td>\n",
       "      <td>3003.0</td>\n",
       "      <td>81.162162</td>\n",
       "      <td>6.0</td>\n",
       "      <td>1361.0</td>\n",
       "      <td>0.0</td>\n",
       "      <td>233.676594</td>\n",
       "      <td>2.88</td>\n",
       "    </tr>\n",
       "    <tr>\n",
       "      <th>Northern America</th>\n",
       "      <td>2.0</td>\n",
       "      <td>24491.0</td>\n",
       "      <td>12245.500000</td>\n",
       "      <td>12245.5</td>\n",
       "      <td>23711.0</td>\n",
       "      <td>780.0</td>\n",
       "      <td>16214.665599</td>\n",
       "      <td>1.32</td>\n",
       "    </tr>\n",
       "    <tr>\n",
       "      <th>Oceania</th>\n",
       "      <td>6.0</td>\n",
       "      <td>70.0</td>\n",
       "      <td>11.666667</td>\n",
       "      <td>0.0</td>\n",
       "      <td>61.0</td>\n",
       "      <td>0.0</td>\n",
       "      <td>24.434948</td>\n",
       "      <td>2.09</td>\n",
       "    </tr>\n",
       "  </tbody>\n",
       "</table>\n",
       "</div>"
      ],
      "text/plain": [
       "                             count      sum          mean   median      max    min           std   CoV\n",
       "continent                                                                                             \n",
       "Africa                        55.0    840.0     15.272727      2.0    313.0    0.0     49.423886  3.24\n",
       "Asia                          48.0  11570.0    241.041667      7.0   4683.0    0.0    832.223169  3.45\n",
       "Europe                        42.0  81748.0   1946.380952     96.0  20465.0    1.0   4928.925668  2.53\n",
       "Latin America and Caribbean   37.0   3003.0     81.162162      6.0   1361.0    0.0    233.676594  2.88\n",
       "Northern America               2.0  24491.0  12245.500000  12245.5  23711.0  780.0  16214.665599  1.32\n",
       "Oceania                        6.0     70.0     11.666667      0.0     61.0    0.0     24.434948  2.09"
      ]
     },
     "execution_count": 129,
     "metadata": {},
     "output_type": "execute_result"
    }
   ],
   "source": [
    "death_continent_stats_t"
   ]
  },
  {
   "cell_type": "code",
   "execution_count": 131,
   "metadata": {},
   "outputs": [
    {
     "data": {
      "text/plain": [
       "<matplotlib.axes._subplots.AxesSubplot at 0x187bc891208>"
      ]
     },
     "execution_count": 131,
     "metadata": {},
     "output_type": "execute_result"
    },
    {
     "data": {
      "image/png": "[encoded data removed]",
      "text/plain": [
       "<Figure size 432x288 with 1 Axes>"
      ]
     },
     "metadata": {},
     "output_type": "display_data"
    }
   ],
   "source": [
    "death_continent_stats_t[['sum']].sort_values(by='sum').plot(kind='barh')"
   ]
  },
  {
   "cell_type": "code",
   "execution_count": 132,
   "metadata": {},
   "outputs": [
    {
     "data": {
      "text/plain": [
       "<matplotlib.axes._subplots.AxesSubplot at 0x187bc8856c8>"
      ]
     },
     "execution_count": 132,
     "metadata": {},
     "output_type": "execute_result"
    },
    {
     "data": {
      "image/png": "[encoded data removed]",
      "text/plain": [
       "<Figure size 432x288 with 1 Axes>"
      ]
     },
     "metadata": {},
     "output_type": "display_data"
    }
   ],
   "source": [
    "death_continent_stats_t[['mean', 'median']].sort_values(by='median').plot(kind='barh')"
   ]
  },
  {
   "cell_type": "code",
   "execution_count": 137,
   "metadata": {},
   "outputs": [
    {
     "data": {
      "text/plain": [
       "<matplotlib.axes._subplots.AxesSubplot at 0x187beadac08>"
      ]
     },
     "execution_count": 137,
     "metadata": {},
     "output_type": "execute_result"
    },
    {
     "data": {
      "image/png": "[encoded data removed]",
      "text/plain": [
       "<Figure size 432x288 with 1 Axes>"
      ]
     },
     "metadata": {},
     "output_type": "display_data"
    }
   ],
   "source": [
    "death_continent_stats_t['CoV'].sort_values().plot(kind='barh')"
   ]
  },
  {
   "cell_type": "markdown",
   "metadata": {},
   "source": [
    "# by BRI-membership"
   ]
  },
  {
   "cell_type": "code",
   "execution_count": 144,
   "metadata": {},
   "outputs": [
    {
     "data": {
      "text/html": [
       "<div>\n",
       "<style scoped>\n",
       "    .dataframe tbody tr th:only-of-type {\n",
       "        vertical-align: middle;\n",
       "    }\n",
       "\n",
       "    .dataframe tbody tr th {\n",
       "        vertical-align: top;\n",
       "    }\n",
       "\n",
       "    .dataframe thead th {\n",
       "        text-align: right;\n",
       "    }\n",
       "</style>\n",
       "<table border=\"1\" class=\"dataframe\">\n",
       "  <thead>\n",
       "    <tr style=\"text-align: right;\">\n",
       "      <th>continent</th>\n",
       "      <th>Africa</th>\n",
       "      <th>Asia</th>\n",
       "      <th>Europe</th>\n",
       "      <th>Latin America and Caribbean</th>\n",
       "      <th>Northern America</th>\n",
       "      <th>Oceania</th>\n",
       "      <th>All</th>\n",
       "    </tr>\n",
       "    <tr>\n",
       "      <th>bri_country</th>\n",
       "      <th></th>\n",
       "      <th></th>\n",
       "      <th></th>\n",
       "      <th></th>\n",
       "      <th></th>\n",
       "      <th></th>\n",
       "      <th></th>\n",
       "    </tr>\n",
       "  </thead>\n",
       "  <tbody>\n",
       "    <tr>\n",
       "      <th>bri_member</th>\n",
       "      <td>42</td>\n",
       "      <td>37</td>\n",
       "      <td>25</td>\n",
       "      <td>18</td>\n",
       "      <td>0</td>\n",
       "      <td>3</td>\n",
       "      <td>125</td>\n",
       "    </tr>\n",
       "    <tr>\n",
       "      <th>non_member</th>\n",
       "      <td>13</td>\n",
       "      <td>11</td>\n",
       "      <td>17</td>\n",
       "      <td>19</td>\n",
       "      <td>2</td>\n",
       "      <td>3</td>\n",
       "      <td>65</td>\n",
       "    </tr>\n",
       "    <tr>\n",
       "      <th>All</th>\n",
       "      <td>55</td>\n",
       "      <td>48</td>\n",
       "      <td>42</td>\n",
       "      <td>37</td>\n",
       "      <td>2</td>\n",
       "      <td>6</td>\n",
       "      <td>190</td>\n",
       "    </tr>\n",
       "  </tbody>\n",
       "</table>\n",
       "</div>"
      ],
      "text/plain": [
       "continent    Africa  Asia  Europe  Latin America and Caribbean  Northern America  Oceania  All\n",
       "bri_country                                                                                   \n",
       "bri_member       42    37      25                           18                 0        3  125\n",
       "non_member       13    11      17                           19                 2        3   65\n",
       "All              55    48      42                           37                 2        6  190"
      ]
     },
     "execution_count": 144,
     "metadata": {},
     "output_type": "execute_result"
    }
   ],
   "source": [
    "pd.crosstab(df['bri_country'], df['continent'], margins=True)"
   ]
  },
  {
   "cell_type": "code",
   "execution_count": 139,
   "metadata": {},
   "outputs": [],
   "source": [
    "death_bri_stats_t = df['total_deaths'].groupby(df['bri_country']).apply(stats).unstack()"
   ]
  },
  {
   "cell_type": "code",
   "execution_count": 142,
   "metadata": {},
   "outputs": [],
   "source": [
    "death_bri_stats_t['CoV'] = round(death_bri_stats_t['std'] / death_bri_stats_t['mean'], 2)"
   ]
  },
  {
   "cell_type": "code",
   "execution_count": 143,
   "metadata": {},
   "outputs": [
    {
     "data": {
      "text/html": [
       "<div>\n",
       "<style scoped>\n",
       "    .dataframe tbody tr th:only-of-type {\n",
       "        vertical-align: middle;\n",
       "    }\n",
       "\n",
       "    .dataframe tbody tr th {\n",
       "        vertical-align: top;\n",
       "    }\n",
       "\n",
       "    .dataframe thead th {\n",
       "        text-align: right;\n",
       "    }\n",
       "</style>\n",
       "<table border=\"1\" class=\"dataframe\">\n",
       "  <thead>\n",
       "    <tr style=\"text-align: right;\">\n",
       "      <th></th>\n",
       "      <th>count</th>\n",
       "      <th>sum</th>\n",
       "      <th>mean</th>\n",
       "      <th>median</th>\n",
       "      <th>max</th>\n",
       "      <th>min</th>\n",
       "      <th>std</th>\n",
       "      <th>CoV</th>\n",
       "    </tr>\n",
       "    <tr>\n",
       "      <th>bri_country</th>\n",
       "      <th></th>\n",
       "      <th></th>\n",
       "      <th></th>\n",
       "      <th></th>\n",
       "      <th></th>\n",
       "      <th></th>\n",
       "      <th></th>\n",
       "      <th></th>\n",
       "    </tr>\n",
       "  </thead>\n",
       "  <tbody>\n",
       "    <tr>\n",
       "      <th>bri_member</th>\n",
       "      <td>125.0</td>\n",
       "      <td>35745.0</td>\n",
       "      <td>285.960000</td>\n",
       "      <td>8.0</td>\n",
       "      <td>20465.0</td>\n",
       "      <td>0.0</td>\n",
       "      <td>1894.119548</td>\n",
       "      <td>6.62</td>\n",
       "    </tr>\n",
       "    <tr>\n",
       "      <th>non_member</th>\n",
       "      <td>65.0</td>\n",
       "      <td>85977.0</td>\n",
       "      <td>1322.723077</td>\n",
       "      <td>7.0</td>\n",
       "      <td>23711.0</td>\n",
       "      <td>0.0</td>\n",
       "      <td>4306.389444</td>\n",
       "      <td>3.26</td>\n",
       "    </tr>\n",
       "  </tbody>\n",
       "</table>\n",
       "</div>"
      ],
      "text/plain": [
       "             count      sum         mean  median      max  min          std   CoV\n",
       "bri_country                                                                      \n",
       "bri_member   125.0  35745.0   285.960000     8.0  20465.0  0.0  1894.119548  6.62\n",
       "non_member    65.0  85977.0  1322.723077     7.0  23711.0  0.0  4306.389444  3.26"
      ]
     },
     "execution_count": 143,
     "metadata": {},
     "output_type": "execute_result"
    }
   ],
   "source": [
    "death_bri_stats_t"
   ]
  },
  {
   "cell_type": "markdown",
   "metadata": {},
   "source": [
    "## each Continent"
   ]
  },
  {
   "cell_type": "markdown",
   "metadata": {},
   "source": [
    "### Sum"
   ]
  },
  {
   "cell_type": "code",
   "execution_count": 150,
   "metadata": {},
   "outputs": [
    {
     "data": {
      "text/html": [
       "<div>\n",
       "<style scoped>\n",
       "    .dataframe tbody tr th:only-of-type {\n",
       "        vertical-align: middle;\n",
       "    }\n",
       "\n",
       "    .dataframe tbody tr th {\n",
       "        vertical-align: top;\n",
       "    }\n",
       "\n",
       "    .dataframe thead tr th {\n",
       "        text-align: left;\n",
       "    }\n",
       "\n",
       "    .dataframe thead tr:last-of-type th {\n",
       "        text-align: right;\n",
       "    }\n",
       "</style>\n",
       "<table border=\"1\" class=\"dataframe\">\n",
       "  <thead>\n",
       "    <tr>\n",
       "      <th></th>\n",
       "      <th colspan=\"6\" halign=\"left\">total_deaths</th>\n",
       "    </tr>\n",
       "    <tr>\n",
       "      <th>continent</th>\n",
       "      <th>Africa</th>\n",
       "      <th>Asia</th>\n",
       "      <th>Europe</th>\n",
       "      <th>Latin America and Caribbean</th>\n",
       "      <th>Northern America</th>\n",
       "      <th>Oceania</th>\n",
       "    </tr>\n",
       "    <tr>\n",
       "      <th>bri_country</th>\n",
       "      <th></th>\n",
       "      <th></th>\n",
       "      <th></th>\n",
       "      <th></th>\n",
       "      <th></th>\n",
       "      <th></th>\n",
       "    </tr>\n",
       "  </thead>\n",
       "  <tbody>\n",
       "    <tr>\n",
       "      <th>bri_member</th>\n",
       "      <td>778.0</td>\n",
       "      <td>10926.0</td>\n",
       "      <td>23185.0</td>\n",
       "      <td>847.0</td>\n",
       "      <td>NaN</td>\n",
       "      <td>9.0</td>\n",
       "    </tr>\n",
       "    <tr>\n",
       "      <th>non_member</th>\n",
       "      <td>62.0</td>\n",
       "      <td>644.0</td>\n",
       "      <td>58563.0</td>\n",
       "      <td>2156.0</td>\n",
       "      <td>24491.0</td>\n",
       "      <td>61.0</td>\n",
       "    </tr>\n",
       "  </tbody>\n",
       "</table>\n",
       "</div>"
      ],
      "text/plain": [
       "            total_deaths                                                                       \n",
       "continent         Africa     Asia   Europe Latin America and Caribbean Northern America Oceania\n",
       "bri_country                                                                                    \n",
       "bri_member         778.0  10926.0  23185.0                       847.0              NaN     9.0\n",
       "non_member          62.0    644.0  58563.0                      2156.0          24491.0    61.0"
      ]
     },
     "execution_count": 150,
     "metadata": {},
     "output_type": "execute_result"
    }
   ],
   "source": [
    "pd.pivot_table(data=df,\n",
    "                index=['bri_country'],\n",
    "               values=['total_deaths'],\n",
    "               columns=['continent'],\n",
    "               aggfunc=np.sum)"
   ]
  },
  {
   "cell_type": "markdown",
   "metadata": {},
   "source": [
    "### Mean"
   ]
  },
  {
   "cell_type": "code",
   "execution_count": 151,
   "metadata": {},
   "outputs": [
    {
     "data": {
      "text/html": [
       "<div>\n",
       "<style scoped>\n",
       "    .dataframe tbody tr th:only-of-type {\n",
       "        vertical-align: middle;\n",
       "    }\n",
       "\n",
       "    .dataframe tbody tr th {\n",
       "        vertical-align: top;\n",
       "    }\n",
       "\n",
       "    .dataframe thead tr th {\n",
       "        text-align: left;\n",
       "    }\n",
       "\n",
       "    .dataframe thead tr:last-of-type th {\n",
       "        text-align: right;\n",
       "    }\n",
       "</style>\n",
       "<table border=\"1\" class=\"dataframe\">\n",
       "  <thead>\n",
       "    <tr>\n",
       "      <th></th>\n",
       "      <th colspan=\"6\" halign=\"left\">total_deaths</th>\n",
       "    </tr>\n",
       "    <tr>\n",
       "      <th>continent</th>\n",
       "      <th>Africa</th>\n",
       "      <th>Asia</th>\n",
       "      <th>Europe</th>\n",
       "      <th>Latin America and Caribbean</th>\n",
       "      <th>Northern America</th>\n",
       "      <th>Oceania</th>\n",
       "    </tr>\n",
       "    <tr>\n",
       "      <th>bri_country</th>\n",
       "      <th></th>\n",
       "      <th></th>\n",
       "      <th></th>\n",
       "      <th></th>\n",
       "      <th></th>\n",
       "      <th></th>\n",
       "    </tr>\n",
       "  </thead>\n",
       "  <tbody>\n",
       "    <tr>\n",
       "      <th>bri_member</th>\n",
       "      <td>18.523810</td>\n",
       "      <td>295.297297</td>\n",
       "      <td>927.400000</td>\n",
       "      <td>47.055556</td>\n",
       "      <td>NaN</td>\n",
       "      <td>3.000000</td>\n",
       "    </tr>\n",
       "    <tr>\n",
       "      <th>non_member</th>\n",
       "      <td>4.769231</td>\n",
       "      <td>58.545455</td>\n",
       "      <td>3444.882353</td>\n",
       "      <td>113.473684</td>\n",
       "      <td>12245.5</td>\n",
       "      <td>20.333333</td>\n",
       "    </tr>\n",
       "  </tbody>\n",
       "</table>\n",
       "</div>"
      ],
      "text/plain": [
       "            total_deaths                                                                                 \n",
       "continent         Africa        Asia       Europe Latin America and Caribbean Northern America    Oceania\n",
       "bri_country                                                                                              \n",
       "bri_member     18.523810  295.297297   927.400000                   47.055556              NaN   3.000000\n",
       "non_member      4.769231   58.545455  3444.882353                  113.473684          12245.5  20.333333"
      ]
     },
     "execution_count": 151,
     "metadata": {},
     "output_type": "execute_result"
    }
   ],
   "source": [
    "pd.pivot_table(data=df,\n",
    "                index=['bri_country'],\n",
    "               values=['total_deaths'],\n",
    "               columns=['continent'],\n",
    "               aggfunc=np.mean)"
   ]
  },
  {
   "cell_type": "markdown",
   "metadata": {},
   "source": [
    "### Median"
   ]
  },
  {
   "cell_type": "code",
   "execution_count": 152,
   "metadata": {},
   "outputs": [
    {
     "data": {
      "text/html": [
       "<div>\n",
       "<style scoped>\n",
       "    .dataframe tbody tr th:only-of-type {\n",
       "        vertical-align: middle;\n",
       "    }\n",
       "\n",
       "    .dataframe tbody tr th {\n",
       "        vertical-align: top;\n",
       "    }\n",
       "\n",
       "    .dataframe thead tr th {\n",
       "        text-align: left;\n",
       "    }\n",
       "\n",
       "    .dataframe thead tr:last-of-type th {\n",
       "        text-align: right;\n",
       "    }\n",
       "</style>\n",
       "<table border=\"1\" class=\"dataframe\">\n",
       "  <thead>\n",
       "    <tr>\n",
       "      <th></th>\n",
       "      <th colspan=\"6\" halign=\"left\">total_deaths</th>\n",
       "    </tr>\n",
       "    <tr>\n",
       "      <th>continent</th>\n",
       "      <th>Africa</th>\n",
       "      <th>Asia</th>\n",
       "      <th>Europe</th>\n",
       "      <th>Latin America and Caribbean</th>\n",
       "      <th>Northern America</th>\n",
       "      <th>Oceania</th>\n",
       "    </tr>\n",
       "    <tr>\n",
       "      <th>bri_country</th>\n",
       "      <th></th>\n",
       "      <th></th>\n",
       "      <th></th>\n",
       "      <th></th>\n",
       "      <th></th>\n",
       "      <th></th>\n",
       "    </tr>\n",
       "  </thead>\n",
       "  <tbody>\n",
       "    <tr>\n",
       "      <th>bri_member</th>\n",
       "      <td>2.0</td>\n",
       "      <td>12.0</td>\n",
       "      <td>56.0</td>\n",
       "      <td>7.0</td>\n",
       "      <td>NaN</td>\n",
       "      <td>0.0</td>\n",
       "    </tr>\n",
       "    <tr>\n",
       "      <th>non_member</th>\n",
       "      <td>0.0</td>\n",
       "      <td>5.0</td>\n",
       "      <td>365.0</td>\n",
       "      <td>6.0</td>\n",
       "      <td>12245.5</td>\n",
       "      <td>0.0</td>\n",
       "    </tr>\n",
       "  </tbody>\n",
       "</table>\n",
       "</div>"
      ],
      "text/plain": [
       "            total_deaths                                                                  \n",
       "continent         Africa  Asia Europe Latin America and Caribbean Northern America Oceania\n",
       "bri_country                                                                               \n",
       "bri_member           2.0  12.0   56.0                         7.0              NaN     0.0\n",
       "non_member           0.0   5.0  365.0                         6.0          12245.5     0.0"
      ]
     },
     "execution_count": 152,
     "metadata": {},
     "output_type": "execute_result"
    }
   ],
   "source": [
    "pd.pivot_table(data=df,\n",
    "                index=['bri_country'],\n",
    "               values=['total_deaths'],\n",
    "               columns=['continent'],\n",
    "               aggfunc=np.median)"
   ]
  },
  {
   "cell_type": "markdown",
   "metadata": {},
   "source": [
    "### Get total deaths each continent by bri_membership"
   ]
  },
  {
   "cell_type": "code",
   "execution_count": 22,
   "metadata": {},
   "outputs": [],
   "source": [
    "def get_(group, key):\n",
    "    totals = group.groupby(key)['total_deaths'].sum()\n",
    "    return totals.sort_values(ascending=False)"
   ]
  },
  {
   "cell_type": "code",
   "execution_count": 23,
   "metadata": {},
   "outputs": [
    {
     "data": {
      "text/plain": [
       "bri_country  continent                  \n",
       "bri_member   Europe                         23185.0\n",
       "             Asia                           10926.0\n",
       "             Latin America and Caribbean      847.0\n",
       "             Africa                           778.0\n",
       "             Oceania                            9.0\n",
       "non_member   Europe                         58563.0\n",
       "             Northern America               24491.0\n",
       "             Latin America and Caribbean     2156.0\n",
       "             Asia                             644.0\n",
       "             Africa                            62.0\n",
       "             Oceania                           61.0\n",
       "Name: total_deaths, dtype: float64"
      ]
     },
     "execution_count": 23,
     "metadata": {},
     "output_type": "execute_result"
    }
   ],
   "source": [
    "df.groupby('bri_country').apply(get_, 'continent')"
   ]
  },
  {
   "cell_type": "markdown",
   "metadata": {},
   "source": [
    "### Percentage of total deaths by Bri-membership for each death size"
   ]
  },
  {
   "cell_type": "code",
   "execution_count": 176,
   "metadata": {},
   "outputs": [],
   "source": [
    "bins = np.array([0, 10, 100, 1000, 10000, 100000])"
   ]
  },
  {
   "cell_type": "code",
   "execution_count": 177,
   "metadata": {},
   "outputs": [],
   "source": [
    "labels = pd.cut(df['total_deaths'], bins)"
   ]
  },
  {
   "cell_type": "code",
   "execution_count": 178,
   "metadata": {},
   "outputs": [],
   "source": [
    "grouped = df.groupby(['bri_country', labels])"
   ]
  },
  {
   "cell_type": "code",
   "execution_count": 180,
   "metadata": {},
   "outputs": [],
   "source": [
    "bucket_sum = grouped['total_deaths'].sum().unstack(0)"
   ]
  },
  {
   "cell_type": "code",
   "execution_count": 182,
   "metadata": {},
   "outputs": [],
   "source": [
    "normed_sum = bucket_sum.div(bucket_sum.sum(axis=1), axis=0)"
   ]
  },
  {
   "cell_type": "code",
   "execution_count": 184,
   "metadata": {},
   "outputs": [
    {
     "data": {
      "text/plain": [
       "<matplotlib.axes._subplots.AxesSubplot at 0x187bf2dc308>"
      ]
     },
     "execution_count": 184,
     "metadata": {},
     "output_type": "execute_result"
    },
    {
     "data": {
      "image/png": "[encoded data removed]",
      "text/plain": [
       "<Figure size 432x288 with 1 Axes>"
      ]
     },
     "metadata": {},
     "output_type": "display_data"
    }
   ],
   "source": [
    "normed_sum.plot(kind='barh', stacked=True)"
   ]
  },
  {
   "cell_type": "markdown",
   "metadata": {},
   "source": [
    "# by Freedom Indexes"
   ]
  },
  {
   "cell_type": "code",
   "execution_count": 6,
   "metadata": {},
   "outputs": [],
   "source": [
    "death_index_f = df[['total_deaths', 'life_expectancy_index_2019', 'happiness_index_2019',\n",
    "       'corruption_perception_index_2019', 'democracy_index_2019',\n",
    "       'economic_freedom_index_2019', 'press_freedom_index_2019', 'country', 'region', 'continent', 'bri_country']]"
   ]
  },
  {
   "cell_type": "markdown",
   "metadata": {},
   "source": [
    "## by Country"
   ]
  },
  {
   "cell_type": "code",
   "execution_count": 33,
   "metadata": {},
   "outputs": [
    {
     "data": {
      "text/plain": [
       "total_deaths                        1.000000\n",
       "life_expectancy_index_2019          0.227361\n",
       "happiness_index_2019                0.232135\n",
       "corruption_perception_index_2019    0.229716\n",
       "democracy_index_2019                0.220252\n",
       "economic_freedom_index_2019         0.145334\n",
       "press_freedom_index_2019            0.125675\n",
       "Name: total_deaths, dtype: float64"
      ]
     },
     "execution_count": 33,
     "metadata": {},
     "output_type": "execute_result"
    }
   ],
   "source": [
    "death_index_f.corr()['total_deaths']"
   ]
  },
  {
   "cell_type": "code",
   "execution_count": 12,
   "metadata": {},
   "outputs": [
    {
     "data": {
      "text/html": [
       "<div>\n",
       "<style scoped>\n",
       "    .dataframe tbody tr th:only-of-type {\n",
       "        vertical-align: middle;\n",
       "    }\n",
       "\n",
       "    .dataframe tbody tr th {\n",
       "        vertical-align: top;\n",
       "    }\n",
       "\n",
       "    .dataframe thead th {\n",
       "        text-align: right;\n",
       "    }\n",
       "</style>\n",
       "<table border=\"1\" class=\"dataframe\">\n",
       "  <thead>\n",
       "    <tr style=\"text-align: right;\">\n",
       "      <th></th>\n",
       "      <th>total_deaths</th>\n",
       "      <th>life_expectancy_index_2019</th>\n",
       "      <th>happiness_index_2019</th>\n",
       "      <th>corruption_perception_index_2019</th>\n",
       "      <th>democracy_index_2019</th>\n",
       "      <th>economic_freedom_index_2019</th>\n",
       "      <th>press_freedom_index_2019</th>\n",
       "      <th>country</th>\n",
       "      <th>region</th>\n",
       "      <th>continent</th>\n",
       "      <th>bri_country</th>\n",
       "    </tr>\n",
       "  </thead>\n",
       "  <tbody>\n",
       "    <tr>\n",
       "      <th>0</th>\n",
       "      <td>23711.0</td>\n",
       "      <td>79.11</td>\n",
       "      <td>68.92</td>\n",
       "      <td>69.0</td>\n",
       "      <td>79.6</td>\n",
       "      <td>76.8</td>\n",
       "      <td>74.31</td>\n",
       "      <td>USA</td>\n",
       "      <td>Northern America</td>\n",
       "      <td>Northern America</td>\n",
       "      <td>non_member</td>\n",
       "    </tr>\n",
       "    <tr>\n",
       "      <th>1</th>\n",
       "      <td>18056.0</td>\n",
       "      <td>83.99</td>\n",
       "      <td>63.54</td>\n",
       "      <td>62.0</td>\n",
       "      <td>82.9</td>\n",
       "      <td>65.7</td>\n",
       "      <td>78.01</td>\n",
       "      <td>Spain</td>\n",
       "      <td>Southern Europe</td>\n",
       "      <td>Europe</td>\n",
       "      <td>non_member</td>\n",
       "    </tr>\n",
       "    <tr>\n",
       "      <th>2</th>\n",
       "      <td>20465.0</td>\n",
       "      <td>84.01</td>\n",
       "      <td>62.23</td>\n",
       "      <td>53.0</td>\n",
       "      <td>75.2</td>\n",
       "      <td>62.2</td>\n",
       "      <td>75.02</td>\n",
       "      <td>Italy</td>\n",
       "      <td>Southern Europe</td>\n",
       "      <td>Europe</td>\n",
       "      <td>bri_member</td>\n",
       "    </tr>\n",
       "    <tr>\n",
       "      <th>3</th>\n",
       "      <td>14967.0</td>\n",
       "      <td>83.13</td>\n",
       "      <td>65.92</td>\n",
       "      <td>69.0</td>\n",
       "      <td>81.2</td>\n",
       "      <td>63.8</td>\n",
       "      <td>77.79</td>\n",
       "      <td>France</td>\n",
       "      <td>Western Europe</td>\n",
       "      <td>Europe</td>\n",
       "      <td>non_member</td>\n",
       "    </tr>\n",
       "    <tr>\n",
       "      <th>4</th>\n",
       "      <td>3220.0</td>\n",
       "      <td>81.88</td>\n",
       "      <td>69.85</td>\n",
       "      <td>80.0</td>\n",
       "      <td>86.8</td>\n",
       "      <td>73.5</td>\n",
       "      <td>85.40</td>\n",
       "      <td>Germany</td>\n",
       "      <td>Western Europe</td>\n",
       "      <td>Europe</td>\n",
       "      <td>non_member</td>\n",
       "    </tr>\n",
       "  </tbody>\n",
       "</table>\n",
       "</div>"
      ],
      "text/plain": [
       "   total_deaths  life_expectancy_index_2019  happiness_index_2019  ...            region         continent  bri_country\n",
       "0       23711.0                       79.11                 68.92  ...  Northern America  Northern America   non_member\n",
       "1       18056.0                       83.99                 63.54  ...   Southern Europe            Europe   non_member\n",
       "2       20465.0                       84.01                 62.23  ...   Southern Europe            Europe   bri_member\n",
       "3       14967.0                       83.13                 65.92  ...    Western Europe            Europe   non_member\n",
       "4        3220.0                       81.88                 69.85  ...    Western Europe            Europe   non_member\n",
       "\n",
       "[5 rows x 11 columns]"
      ]
     },
     "execution_count": 12,
     "metadata": {},
     "output_type": "execute_result"
    }
   ],
   "source": [
    "death_index_f.head()"
   ]
  },
  {
   "cell_type": "code",
   "execution_count": 240,
   "metadata": {},
   "outputs": [],
   "source": [
    "by_country = death_index_f.set_index('country')"
   ]
  },
  {
   "cell_type": "code",
   "execution_count": 247,
   "metadata": {},
   "outputs": [
    {
     "data": {
      "text/plain": [
       "total_recovered                     1.000000\n",
       "life_expectancy_index_2019         -0.424063\n",
       "happiness_index_2019               -0.460209\n",
       "corruption_perception_index_2019   -0.375381\n",
       "democracy_index_2019               -0.441392\n",
       "economic_freedom_index_2019        -0.404589\n",
       "press_freedom_index_2019           -0.501570\n",
       "Name: total_recovered, dtype: float64"
      ]
     },
     "execution_count": 247,
     "metadata": {},
     "output_type": "execute_result"
    }
   ],
   "source": [
    "by_country.loc[['China', 'Germany', 'Spain', 'Iran', 'USA', 'Italy', 'France',\n",
    "       'Switzerland']].corr()['total_deaths']"
   ]
  },
  {
   "cell_type": "markdown",
   "metadata": {},
   "source": [
    "## by Region"
   ]
  },
  {
   "cell_type": "code",
   "execution_count": 13,
   "metadata": {},
   "outputs": [],
   "source": [
    "by_region = death_index_f.set_index('region').groupby('region')"
   ]
  },
  {
   "cell_type": "code",
   "execution_count": 21,
   "metadata": {},
   "outputs": [],
   "source": [
    "death_corr = lambda x: x.corrwith(x['total_deaths'])"
   ]
  },
  {
   "cell_type": "code",
   "execution_count": 23,
   "metadata": {},
   "outputs": [
    {
     "name": "stderr",
     "output_type": "stream",
     "text": [
      "C:\\Users\\DucTRung\\Anaconda3\\envs\\cc_env\\lib\\site-packages\\numpy\\lib\\function_base.py:2526: RuntimeWarning: Degrees of freedom <= 0 for slice\n",
      "  c = cov(x, y, rowvar)\n",
      "C:\\Users\\DucTRung\\Anaconda3\\envs\\cc_env\\lib\\site-packages\\numpy\\lib\\function_base.py:2455: RuntimeWarning: divide by zero encountered in true_divide\n",
      "  c *= np.true_divide(1, fact)\n"
     ]
    }
   ],
   "source": [
    "dea_ind_byreg_corr_t = by_region.apply(death_corr)"
   ]
  },
  {
   "cell_type": "code",
   "execution_count": 24,
   "metadata": {
    "scrolled": true
   },
   "outputs": [
    {
     "data": {
      "text/html": [
       "<div>\n",
       "<style scoped>\n",
       "    .dataframe tbody tr th:only-of-type {\n",
       "        vertical-align: middle;\n",
       "    }\n",
       "\n",
       "    .dataframe tbody tr th {\n",
       "        vertical-align: top;\n",
       "    }\n",
       "\n",
       "    .dataframe thead th {\n",
       "        text-align: right;\n",
       "    }\n",
       "</style>\n",
       "<table border=\"1\" class=\"dataframe\">\n",
       "  <thead>\n",
       "    <tr style=\"text-align: right;\">\n",
       "      <th></th>\n",
       "      <th>total_deaths</th>\n",
       "      <th>life_expectancy_index_2019</th>\n",
       "      <th>happiness_index_2019</th>\n",
       "      <th>corruption_perception_index_2019</th>\n",
       "      <th>democracy_index_2019</th>\n",
       "      <th>economic_freedom_index_2019</th>\n",
       "      <th>press_freedom_index_2019</th>\n",
       "    </tr>\n",
       "    <tr>\n",
       "      <th>region</th>\n",
       "      <th></th>\n",
       "      <th></th>\n",
       "      <th></th>\n",
       "      <th></th>\n",
       "      <th></th>\n",
       "      <th></th>\n",
       "      <th></th>\n",
       "    </tr>\n",
       "  </thead>\n",
       "  <tbody>\n",
       "    <tr>\n",
       "      <th>Australia &amp; New Zealand</th>\n",
       "      <td>1.0</td>\n",
       "      <td>1.000000</td>\n",
       "      <td>-1.000000</td>\n",
       "      <td>-1.000000</td>\n",
       "      <td>-1.000000</td>\n",
       "      <td>-1.000000</td>\n",
       "      <td>-1.000000</td>\n",
       "    </tr>\n",
       "    <tr>\n",
       "      <th>Caribbean</th>\n",
       "      <td>1.0</td>\n",
       "      <td>-0.063163</td>\n",
       "      <td>0.329163</td>\n",
       "      <td>-0.459426</td>\n",
       "      <td>0.216369</td>\n",
       "      <td>-0.048069</td>\n",
       "      <td>0.013614</td>\n",
       "    </tr>\n",
       "    <tr>\n",
       "      <th>Central America</th>\n",
       "      <td>1.0</td>\n",
       "      <td>-0.038344</td>\n",
       "      <td>0.161157</td>\n",
       "      <td>-0.128685</td>\n",
       "      <td>0.130880</td>\n",
       "      <td>0.436914</td>\n",
       "      <td>-0.483892</td>\n",
       "    </tr>\n",
       "    <tr>\n",
       "      <th>Central Asia</th>\n",
       "      <td>1.0</td>\n",
       "      <td>0.991327</td>\n",
       "      <td>0.024299</td>\n",
       "      <td>0.879135</td>\n",
       "      <td>-0.110562</td>\n",
       "      <td>1.000000</td>\n",
       "      <td>-0.395509</td>\n",
       "    </tr>\n",
       "    <tr>\n",
       "      <th>Eastern Africa</th>\n",
       "      <td>1.0</td>\n",
       "      <td>0.173790</td>\n",
       "      <td>0.619128</td>\n",
       "      <td>0.367120</td>\n",
       "      <td>0.578846</td>\n",
       "      <td>0.274637</td>\n",
       "      <td>0.305230</td>\n",
       "    </tr>\n",
       "    <tr>\n",
       "      <th>Eastern Asia</th>\n",
       "      <td>1.0</td>\n",
       "      <td>-0.270427</td>\n",
       "      <td>-0.498617</td>\n",
       "      <td>-0.488373</td>\n",
       "      <td>-0.905962</td>\n",
       "      <td>-0.476794</td>\n",
       "      <td>-0.989346</td>\n",
       "    </tr>\n",
       "    <tr>\n",
       "      <th>Eastern Europe</th>\n",
       "      <td>1.0</td>\n",
       "      <td>0.282169</td>\n",
       "      <td>0.363705</td>\n",
       "      <td>0.195263</td>\n",
       "      <td>0.119483</td>\n",
       "      <td>0.346441</td>\n",
       "      <td>0.216813</td>\n",
       "    </tr>\n",
       "    <tr>\n",
       "      <th>Melanesia</th>\n",
       "      <td>NaN</td>\n",
       "      <td>NaN</td>\n",
       "      <td>NaN</td>\n",
       "      <td>NaN</td>\n",
       "      <td>NaN</td>\n",
       "      <td>NaN</td>\n",
       "      <td>NaN</td>\n",
       "    </tr>\n",
       "    <tr>\n",
       "      <th>Middle Africa</th>\n",
       "      <td>1.0</td>\n",
       "      <td>-0.013118</td>\n",
       "      <td>0.374941</td>\n",
       "      <td>-0.444027</td>\n",
       "      <td>-0.218150</td>\n",
       "      <td>0.082805</td>\n",
       "      <td>-0.258409</td>\n",
       "    </tr>\n",
       "    <tr>\n",
       "      <th>Northern Africa</th>\n",
       "      <td>1.0</td>\n",
       "      <td>0.536217</td>\n",
       "      <td>-0.026920</td>\n",
       "      <td>0.469816</td>\n",
       "      <td>0.109071</td>\n",
       "      <td>-0.264758</td>\n",
       "      <td>0.234943</td>\n",
       "    </tr>\n",
       "    <tr>\n",
       "      <th>Northern America</th>\n",
       "      <td>1.0</td>\n",
       "      <td>-1.000000</td>\n",
       "      <td>-1.000000</td>\n",
       "      <td>-1.000000</td>\n",
       "      <td>-1.000000</td>\n",
       "      <td>-1.000000</td>\n",
       "      <td>-1.000000</td>\n",
       "    </tr>\n",
       "    <tr>\n",
       "      <th>Northern Europe</th>\n",
       "      <td>1.0</td>\n",
       "      <td>0.097339</td>\n",
       "      <td>0.062046</td>\n",
       "      <td>0.065222</td>\n",
       "      <td>-0.077742</td>\n",
       "      <td>0.397704</td>\n",
       "      <td>-0.476557</td>\n",
       "    </tr>\n",
       "    <tr>\n",
       "      <th>Polynesia</th>\n",
       "      <td>NaN</td>\n",
       "      <td>NaN</td>\n",
       "      <td>NaN</td>\n",
       "      <td>NaN</td>\n",
       "      <td>NaN</td>\n",
       "      <td>NaN</td>\n",
       "      <td>NaN</td>\n",
       "    </tr>\n",
       "    <tr>\n",
       "      <th>South America</th>\n",
       "      <td>1.0</td>\n",
       "      <td>0.148426</td>\n",
       "      <td>0.312761</td>\n",
       "      <td>-0.120944</td>\n",
       "      <td>0.119846</td>\n",
       "      <td>-0.050923</td>\n",
       "      <td>-0.104320</td>\n",
       "    </tr>\n",
       "    <tr>\n",
       "      <th>South-Eastern Asia</th>\n",
       "      <td>1.0</td>\n",
       "      <td>-0.122283</td>\n",
       "      <td>0.146174</td>\n",
       "      <td>-0.085781</td>\n",
       "      <td>0.447440</td>\n",
       "      <td>0.145703</td>\n",
       "      <td>0.357857</td>\n",
       "    </tr>\n",
       "    <tr>\n",
       "      <th>Southern Africa</th>\n",
       "      <td>1.0</td>\n",
       "      <td>-0.020264</td>\n",
       "      <td>0.511609</td>\n",
       "      <td>-0.830820</td>\n",
       "      <td>0.370298</td>\n",
       "      <td>-0.175119</td>\n",
       "      <td>-0.064583</td>\n",
       "    </tr>\n",
       "    <tr>\n",
       "      <th>Southern Asia</th>\n",
       "      <td>1.0</td>\n",
       "      <td>0.326991</td>\n",
       "      <td>-0.002947</td>\n",
       "      <td>-0.212368</td>\n",
       "      <td>-0.602487</td>\n",
       "      <td>-0.420369</td>\n",
       "      <td>-0.788974</td>\n",
       "    </tr>\n",
       "    <tr>\n",
       "      <th>Southern Europe</th>\n",
       "      <td>1.0</td>\n",
       "      <td>0.574936</td>\n",
       "      <td>0.490780</td>\n",
       "      <td>0.426051</td>\n",
       "      <td>0.450868</td>\n",
       "      <td>-0.043742</td>\n",
       "      <td>0.278381</td>\n",
       "    </tr>\n",
       "    <tr>\n",
       "      <th>Western Africa</th>\n",
       "      <td>1.0</td>\n",
       "      <td>-0.110506</td>\n",
       "      <td>0.153064</td>\n",
       "      <td>0.213570</td>\n",
       "      <td>0.021783</td>\n",
       "      <td>0.236276</td>\n",
       "      <td>0.310087</td>\n",
       "    </tr>\n",
       "    <tr>\n",
       "      <th>Western Asian</th>\n",
       "      <td>1.0</td>\n",
       "      <td>0.151672</td>\n",
       "      <td>0.043261</td>\n",
       "      <td>-0.041449</td>\n",
       "      <td>0.064914</td>\n",
       "      <td>-0.069055</td>\n",
       "      <td>-0.122563</td>\n",
       "    </tr>\n",
       "    <tr>\n",
       "      <th>Western Europe</th>\n",
       "      <td>1.0</td>\n",
       "      <td>0.111941</td>\n",
       "      <td>-0.755218</td>\n",
       "      <td>-0.800150</td>\n",
       "      <td>-0.435827</td>\n",
       "      <td>-0.744872</td>\n",
       "      <td>-0.447977</td>\n",
       "    </tr>\n",
       "  </tbody>\n",
       "</table>\n",
       "</div>"
      ],
      "text/plain": [
       "                         total_deaths  ...  press_freedom_index_2019\n",
       "region                                 ...                          \n",
       "Australia & New Zealand           1.0  ...                 -1.000000\n",
       "Caribbean                         1.0  ...                  0.013614\n",
       "Central America                   1.0  ...                 -0.483892\n",
       "Central Asia                      1.0  ...                 -0.395509\n",
       "Eastern Africa                    1.0  ...                  0.305230\n",
       "Eastern Asia                      1.0  ...                 -0.989346\n",
       "Eastern Europe                    1.0  ...                  0.216813\n",
       "Melanesia                         NaN  ...                       NaN\n",
       "Middle Africa                     1.0  ...                 -0.258409\n",
       "Northern Africa                   1.0  ...                  0.234943\n",
       "Northern America                  1.0  ...                 -1.000000\n",
       "Northern Europe                   1.0  ...                 -0.476557\n",
       "Polynesia                         NaN  ...                       NaN\n",
       "South America                     1.0  ...                 -0.104320\n",
       "South-Eastern Asia                1.0  ...                  0.357857\n",
       "Southern Africa                   1.0  ...                 -0.064583\n",
       "Southern Asia                     1.0  ...                 -0.788974\n",
       "Southern Europe                   1.0  ...                  0.278381\n",
       "Western Africa                    1.0  ...                  0.310087\n",
       "Western Asian                     1.0  ...                 -0.122563\n",
       "Western Europe                    1.0  ...                 -0.447977\n",
       "\n",
       "[21 rows x 7 columns]"
      ]
     },
     "execution_count": 24,
     "metadata": {},
     "output_type": "execute_result"
    }
   ],
   "source": [
    "dea_ind_byreg_corr_t"
   ]
  },
  {
   "cell_type": "markdown",
   "metadata": {},
   "source": [
    "## by BRI-membership"
   ]
  },
  {
   "cell_type": "code",
   "execution_count": 44,
   "metadata": {},
   "outputs": [],
   "source": [
    "by_bri = death_index_f.groupby('bri_country')"
   ]
  },
  {
   "cell_type": "code",
   "execution_count": 45,
   "metadata": {},
   "outputs": [],
   "source": [
    "death_corr = lambda x: x.corrwith(x['total_deaths'])"
   ]
  },
  {
   "cell_type": "code",
   "execution_count": 46,
   "metadata": {},
   "outputs": [
    {
     "data": {
      "text/html": [
       "<div>\n",
       "<style scoped>\n",
       "    .dataframe tbody tr th:only-of-type {\n",
       "        vertical-align: middle;\n",
       "    }\n",
       "\n",
       "    .dataframe tbody tr th {\n",
       "        vertical-align: top;\n",
       "    }\n",
       "\n",
       "    .dataframe thead th {\n",
       "        text-align: right;\n",
       "    }\n",
       "</style>\n",
       "<table border=\"1\" class=\"dataframe\">\n",
       "  <thead>\n",
       "    <tr style=\"text-align: right;\">\n",
       "      <th></th>\n",
       "      <th>total_deaths</th>\n",
       "      <th>life_expectancy_index_2019</th>\n",
       "      <th>happiness_index_2019</th>\n",
       "      <th>corruption_perception_index_2019</th>\n",
       "      <th>democracy_index_2019</th>\n",
       "      <th>economic_freedom_index_2019</th>\n",
       "      <th>press_freedom_index_2019</th>\n",
       "    </tr>\n",
       "    <tr>\n",
       "      <th>bri_country</th>\n",
       "      <th></th>\n",
       "      <th></th>\n",
       "      <th></th>\n",
       "      <th></th>\n",
       "      <th></th>\n",
       "      <th></th>\n",
       "      <th></th>\n",
       "    </tr>\n",
       "  </thead>\n",
       "  <tbody>\n",
       "    <tr>\n",
       "      <th>bri_member</th>\n",
       "      <td>1.0</td>\n",
       "      <td>0.188066</td>\n",
       "      <td>0.104213</td>\n",
       "      <td>0.067689</td>\n",
       "      <td>0.075300</td>\n",
       "      <td>0.015461</td>\n",
       "      <td>-0.004639</td>\n",
       "    </tr>\n",
       "    <tr>\n",
       "      <th>non_member</th>\n",
       "      <td>1.0</td>\n",
       "      <td>0.224384</td>\n",
       "      <td>0.236801</td>\n",
       "      <td>0.255976</td>\n",
       "      <td>0.258573</td>\n",
       "      <td>0.182554</td>\n",
       "      <td>0.170517</td>\n",
       "    </tr>\n",
       "  </tbody>\n",
       "</table>\n",
       "</div>"
      ],
      "text/plain": [
       "             total_deaths  life_expectancy_index_2019  ...  economic_freedom_index_2019  press_freedom_index_2019\n",
       "bri_country                                            ...                                                       \n",
       "bri_member            1.0                    0.188066  ...                     0.015461                 -0.004639\n",
       "non_member            1.0                    0.224384  ...                     0.182554                  0.170517\n",
       "\n",
       "[2 rows x 7 columns]"
      ]
     },
     "execution_count": 46,
     "metadata": {},
     "output_type": "execute_result"
    }
   ],
   "source": [
    "by_bri.apply(death_corr)"
   ]
  },
  {
   "cell_type": "markdown",
   "metadata": {},
   "source": [
    "## by Continent"
   ]
  },
  {
   "cell_type": "code",
   "execution_count": 47,
   "metadata": {},
   "outputs": [],
   "source": [
    "by_continent = death_index_f.groupby('continent')"
   ]
  },
  {
   "cell_type": "code",
   "execution_count": 48,
   "metadata": {},
   "outputs": [
    {
     "data": {
      "text/html": [
       "<div>\n",
       "<style scoped>\n",
       "    .dataframe tbody tr th:only-of-type {\n",
       "        vertical-align: middle;\n",
       "    }\n",
       "\n",
       "    .dataframe tbody tr th {\n",
       "        vertical-align: top;\n",
       "    }\n",
       "\n",
       "    .dataframe thead th {\n",
       "        text-align: right;\n",
       "    }\n",
       "</style>\n",
       "<table border=\"1\" class=\"dataframe\">\n",
       "  <thead>\n",
       "    <tr style=\"text-align: right;\">\n",
       "      <th></th>\n",
       "      <th>total_deaths</th>\n",
       "      <th>life_expectancy_index_2019</th>\n",
       "      <th>happiness_index_2019</th>\n",
       "      <th>corruption_perception_index_2019</th>\n",
       "      <th>democracy_index_2019</th>\n",
       "      <th>economic_freedom_index_2019</th>\n",
       "      <th>press_freedom_index_2019</th>\n",
       "    </tr>\n",
       "    <tr>\n",
       "      <th>continent</th>\n",
       "      <th></th>\n",
       "      <th></th>\n",
       "      <th></th>\n",
       "      <th></th>\n",
       "      <th></th>\n",
       "      <th></th>\n",
       "      <th></th>\n",
       "    </tr>\n",
       "  </thead>\n",
       "  <tbody>\n",
       "    <tr>\n",
       "      <th>Africa</th>\n",
       "      <td>1.0</td>\n",
       "      <td>0.365643</td>\n",
       "      <td>0.248734</td>\n",
       "      <td>0.125283</td>\n",
       "      <td>0.017033</td>\n",
       "      <td>-0.076520</td>\n",
       "      <td>-0.133549</td>\n",
       "    </tr>\n",
       "    <tr>\n",
       "      <th>Asia</th>\n",
       "      <td>1.0</td>\n",
       "      <td>0.081515</td>\n",
       "      <td>-0.100218</td>\n",
       "      <td>-0.118475</td>\n",
       "      <td>-0.208965</td>\n",
       "      <td>-0.196247</td>\n",
       "      <td>-0.386079</td>\n",
       "    </tr>\n",
       "    <tr>\n",
       "      <th>Europe</th>\n",
       "      <td>1.0</td>\n",
       "      <td>0.379355</td>\n",
       "      <td>0.147210</td>\n",
       "      <td>0.150215</td>\n",
       "      <td>0.179891</td>\n",
       "      <td>-0.053023</td>\n",
       "      <td>0.071754</td>\n",
       "    </tr>\n",
       "    <tr>\n",
       "      <th>Latin America and Caribbean</th>\n",
       "      <td>1.0</td>\n",
       "      <td>0.056086</td>\n",
       "      <td>0.158330</td>\n",
       "      <td>-0.151182</td>\n",
       "      <td>0.156629</td>\n",
       "      <td>-0.081931</td>\n",
       "      <td>-0.087666</td>\n",
       "    </tr>\n",
       "    <tr>\n",
       "      <th>Northern America</th>\n",
       "      <td>1.0</td>\n",
       "      <td>-1.000000</td>\n",
       "      <td>-1.000000</td>\n",
       "      <td>-1.000000</td>\n",
       "      <td>-1.000000</td>\n",
       "      <td>-1.000000</td>\n",
       "      <td>-1.000000</td>\n",
       "    </tr>\n",
       "    <tr>\n",
       "      <th>Oceania</th>\n",
       "      <td>1.0</td>\n",
       "      <td>0.572714</td>\n",
       "      <td>-1.000000</td>\n",
       "      <td>0.480885</td>\n",
       "      <td>0.661580</td>\n",
       "      <td>0.601278</td>\n",
       "      <td>0.420892</td>\n",
       "    </tr>\n",
       "  </tbody>\n",
       "</table>\n",
       "</div>"
      ],
      "text/plain": [
       "                             total_deaths  ...  press_freedom_index_2019\n",
       "continent                                  ...                          \n",
       "Africa                                1.0  ...                 -0.133549\n",
       "Asia                                  1.0  ...                 -0.386079\n",
       "Europe                                1.0  ...                  0.071754\n",
       "Latin America and Caribbean           1.0  ...                 -0.087666\n",
       "Northern America                      1.0  ...                 -1.000000\n",
       "Oceania                               1.0  ...                  0.420892\n",
       "\n",
       "[6 rows x 7 columns]"
      ]
     },
     "execution_count": 48,
     "metadata": {},
     "output_type": "execute_result"
    }
   ],
   "source": [
    "by_continent.apply(death_corr)"
   ]
  }
 ],
 "metadata": {
  "kernelspec": {
   "display_name": "Python 3",
   "language": "python",
   "name": "python3"
  },
  "language_info": {
   "codemirror_mode": {
    "name": "ipython",
    "version": 3
   },
   "file_extension": ".py",
   "mimetype": "text/x-python",
   "name": "python",
   "nbconvert_exporter": "python",
   "pygments_lexer": "ipython3",
   "version": "3.7.6"
  },
  "toc": {
   "base_numbering": 1,
   "nav_menu": {},
   "number_sections": true,
   "sideBar": true,
   "skip_h1_title": false,
   "title_cell": "Table of Contents",
   "title_sidebar": "Contents",
   "toc_cell": false,
   "toc_position": {
    "height": "calc(100% - 180px)",
    "left": "10px",
    "top": "150px",
    "width": "165px"
   },
   "toc_section_display": true,
   "toc_window_display": true
  }
 },
 "nbformat": 4,
 "nbformat_minor": 4
}
